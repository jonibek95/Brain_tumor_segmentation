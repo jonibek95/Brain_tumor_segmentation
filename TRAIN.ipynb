{
 "cells": [
  {
   "cell_type": "code",
   "execution_count": null,
   "id": "93527c23",
   "metadata": {},
   "outputs": [],
   "source": []
  },
  {
   "cell_type": "code",
   "execution_count": 1,
   "id": "3ac668de",
   "metadata": {},
   "outputs": [
    {
     "name": "stderr",
     "output_type": "stream",
     "text": [
      "GPU available: True (cuda), used: True\n",
      "TPU available: False, using: 0 TPU cores\n",
      "IPU available: False, using: 0 IPUs\n",
      "HPU available: False, using: 0 HPUs\n",
      "/data2/jupyter_storage/jonibek95/.conda/envs/joni2/lib/python3.10/site-packages/pytorch_lightning/trainer/connectors/logger_connector/logger_connector.py:67: UserWarning: Starting from v1.9.0, `tensorboardX` has been removed as a dependency of the `pytorch_lightning` package, due to potential conflicts with other packages in the ML ecosystem. For this reason, `logger=True` will use `CSVLogger` as the default logger, unless the `tensorboard` or `tensorboardX` packages are found. Please `pip install lightning[extra]` or one of them to enable TensorBoard support by default\n",
      "  warning_cache.warn(\n",
      "LOCAL_RANK: 0 - CUDA_VISIBLE_DEVICES: [0, 1, 2, 3]\n",
      "\n",
      "  | Name    | Type     | Params\n",
      "-------------------------------------\n",
      "0 | model   | PAN      | 10.8 M\n",
      "1 | loss_fn | DiceLoss | 0     \n",
      "-------------------------------------\n",
      "10.8 M    Trainable params\n",
      "0         Non-trainable params\n",
      "10.8 M    Total params\n",
      "43.224    Total estimated model params size (MB)\n"
     ]
    },
    {
     "data": {
      "application/vnd.jupyter.widget-view+json": {
       "model_id": "",
       "version_major": 2,
       "version_minor": 0
      },
      "text/plain": [
       "Sanity Checking: 0it [00:00, ?it/s]"
      ]
     },
     "metadata": {},
     "output_type": "display_data"
    },
    {
     "name": "stdout",
     "output_type": "stream",
     "text": [
      "{'valid_dataset_accuracy': tensor(0.4216, device='cuda:0'),\n",
      " 'valid_dataset_f1': tensor(0.5256, device='cuda:0'),\n",
      " 'valid_dataset_iou': tensor(0.3565, device='cuda:0'),\n",
      " 'valid_dataset_precision': tensor(0.6703, device='cuda:0'),\n",
      " 'valid_dataset_recall': tensor(0.4323, device='cuda:0'),\n",
      " 'valid_per_image_accuracy': tensor(0.4216, device='cuda:0'),\n",
      " 'valid_per_image_f1': tensor(0.4276, device='cuda:0'),\n",
      " 'valid_per_image_iou': tensor(0.3335, device='cuda:0'),\n",
      " 'valid_per_image_precision': tensor(0.7883, device='cuda:0'),\n",
      " 'valid_per_image_recall': tensor(0.4901, device='cuda:0')}\n"
     ]
    },
    {
     "data": {
      "application/vnd.jupyter.widget-view+json": {
       "model_id": "0bfbcf675f66407889a944934d06e52d",
       "version_major": 2,
       "version_minor": 0
      },
      "text/plain": [
       "Training: 0it [00:00, ?it/s]"
      ]
     },
     "metadata": {},
     "output_type": "display_data"
    },
    {
     "data": {
      "application/vnd.jupyter.widget-view+json": {
       "model_id": "",
       "version_major": 2,
       "version_minor": 0
      },
      "text/plain": [
       "Validation: 0it [00:00, ?it/s]"
      ]
     },
     "metadata": {},
     "output_type": "display_data"
    },
    {
     "name": "stdout",
     "output_type": "stream",
     "text": [
      "{'valid_dataset_accuracy': tensor(0.8441, device='cuda:0'),\n",
      " 'valid_dataset_f1': tensor(0.8913, device='cuda:0'),\n",
      " 'valid_dataset_iou': tensor(0.8038, device='cuda:0'),\n",
      " 'valid_dataset_precision': tensor(0.8397, device='cuda:0'),\n",
      " 'valid_dataset_recall': tensor(0.9496, device='cuda:0'),\n",
      " 'valid_per_image_accuracy': tensor(0.8441, device='cuda:0'),\n",
      " 'valid_per_image_f1': tensor(0.8185, device='cuda:0'),\n",
      " 'valid_per_image_iou': tensor(0.7488, device='cuda:0'),\n",
      " 'valid_per_image_precision': tensor(0.8036, device='cuda:0'),\n",
      " 'valid_per_image_recall': tensor(0.9161, device='cuda:0')}\n",
      "{'train_dataset_accuracy': tensor(0.7951, device='cuda:0'),\n",
      " 'train_dataset_f1': tensor(0.8582, device='cuda:0'),\n",
      " 'train_dataset_iou': tensor(0.7516, device='cuda:0'),\n",
      " 'train_dataset_precision': tensor(0.8027, device='cuda:0'),\n",
      " 'train_dataset_recall': tensor(0.9219, device='cuda:0'),\n",
      " 'train_per_image_accuracy': tensor(0.7951, device='cuda:0'),\n",
      " 'train_per_image_f1': tensor(0.7732, device='cuda:0'),\n",
      " 'train_per_image_iou': tensor(0.6973, device='cuda:0'),\n",
      " 'train_per_image_precision': tensor(0.7650, device='cuda:0'),\n",
      " 'train_per_image_recall': tensor(0.8860, device='cuda:0')}\n"
     ]
    },
    {
     "data": {
      "application/vnd.jupyter.widget-view+json": {
       "model_id": "",
       "version_major": 2,
       "version_minor": 0
      },
      "text/plain": [
       "Validation: 0it [00:00, ?it/s]"
      ]
     },
     "metadata": {},
     "output_type": "display_data"
    },
    {
     "name": "stdout",
     "output_type": "stream",
     "text": [
      "{'valid_dataset_accuracy': tensor(0.8592, device='cuda:0'),\n",
      " 'valid_dataset_f1': tensor(0.9006, device='cuda:0'),\n",
      " 'valid_dataset_iou': tensor(0.8192, device='cuda:0'),\n",
      " 'valid_dataset_precision': tensor(0.8570, device='cuda:0'),\n",
      " 'valid_dataset_recall': tensor(0.9489, device='cuda:0'),\n",
      " 'valid_per_image_accuracy': tensor(0.8592, device='cuda:0'),\n",
      " 'valid_per_image_f1': tensor(0.8311, device='cuda:0'),\n",
      " 'valid_per_image_iou': tensor(0.7633, device='cuda:0'),\n",
      " 'valid_per_image_precision': tensor(0.8188, device='cuda:0'),\n",
      " 'valid_per_image_recall': tensor(0.9176, device='cuda:0')}\n",
      "{'train_dataset_accuracy': tensor(0.8334, device='cuda:0'),\n",
      " 'train_dataset_f1': tensor(0.8829, device='cuda:0'),\n",
      " 'train_dataset_iou': tensor(0.7903, device='cuda:0'),\n",
      " 'train_dataset_precision': tensor(0.8374, device='cuda:0'),\n",
      " 'train_dataset_recall': tensor(0.9335, device='cuda:0'),\n",
      " 'train_per_image_accuracy': tensor(0.8334, device='cuda:0'),\n",
      " 'train_per_image_f1': tensor(0.8108, device='cuda:0'),\n",
      " 'train_per_image_iou': tensor(0.7380, device='cuda:0'),\n",
      " 'train_per_image_precision': tensor(0.7996, device='cuda:0'),\n",
      " 'train_per_image_recall': tensor(0.9084, device='cuda:0')}\n"
     ]
    },
    {
     "data": {
      "application/vnd.jupyter.widget-view+json": {
       "model_id": "",
       "version_major": 2,
       "version_minor": 0
      },
      "text/plain": [
       "Validation: 0it [00:00, ?it/s]"
      ]
     },
     "metadata": {},
     "output_type": "display_data"
    },
    {
     "name": "stdout",
     "output_type": "stream",
     "text": [
      "{'valid_dataset_accuracy': tensor(0.8732, device='cuda:0'),\n",
      " 'valid_dataset_f1': tensor(0.9101, device='cuda:0'),\n",
      " 'valid_dataset_iou': tensor(0.8350, device='cuda:0'),\n",
      " 'valid_dataset_precision': tensor(0.8701, device='cuda:0'),\n",
      " 'valid_dataset_recall': tensor(0.9539, device='cuda:0'),\n",
      " 'valid_per_image_accuracy': tensor(0.8732, device='cuda:0'),\n",
      " 'valid_per_image_f1': tensor(0.8435, device='cuda:0'),\n",
      " 'valid_per_image_iou': tensor(0.7784, device='cuda:0'),\n",
      " 'valid_per_image_precision': tensor(0.8305, device='cuda:0'),\n",
      " 'valid_per_image_recall': tensor(0.9222, device='cuda:0')}\n",
      "{'train_dataset_accuracy': tensor(0.8563, device='cuda:0'),\n",
      " 'train_dataset_f1': tensor(0.8979, device='cuda:0'),\n",
      " 'train_dataset_iou': tensor(0.8148, device='cuda:0'),\n",
      " 'train_dataset_precision': tensor(0.8595, device='cuda:0'),\n",
      " 'train_dataset_recall': tensor(0.9400, device='cuda:0'),\n",
      " 'train_per_image_accuracy': tensor(0.8563, device='cuda:0'),\n",
      " 'train_per_image_f1': tensor(0.8282, device='cuda:0'),\n",
      " 'train_per_image_iou': tensor(0.7587, device='cuda:0'),\n",
      " 'train_per_image_precision': tensor(0.8199, device='cuda:0'),\n",
      " 'train_per_image_recall': tensor(0.9100, device='cuda:0')}\n"
     ]
    },
    {
     "data": {
      "application/vnd.jupyter.widget-view+json": {
       "model_id": "",
       "version_major": 2,
       "version_minor": 0
      },
      "text/plain": [
       "Validation: 0it [00:00, ?it/s]"
      ]
     },
     "metadata": {},
     "output_type": "display_data"
    },
    {
     "name": "stdout",
     "output_type": "stream",
     "text": [
      "{'valid_dataset_accuracy': tensor(0.8847, device='cuda:0'),\n",
      " 'valid_dataset_f1': tensor(0.9164, device='cuda:0'),\n",
      " 'valid_dataset_iou': tensor(0.8457, device='cuda:0'),\n",
      " 'valid_dataset_precision': tensor(0.8945, device='cuda:0'),\n",
      " 'valid_dataset_recall': tensor(0.9394, device='cuda:0'),\n",
      " 'valid_per_image_accuracy': tensor(0.8847, device='cuda:0'),\n",
      " 'valid_per_image_f1': tensor(0.8502, device='cuda:0'),\n",
      " 'valid_per_image_iou': tensor(0.7853, device='cuda:0'),\n",
      " 'valid_per_image_precision': tensor(0.8555, device='cuda:0'),\n",
      " 'valid_per_image_recall': tensor(0.9011, device='cuda:0')}\n",
      "{'train_dataset_accuracy': tensor(0.8721, device='cuda:0'),\n",
      " 'train_dataset_f1': tensor(0.9088, device='cuda:0'),\n",
      " 'train_dataset_iou': tensor(0.8329, device='cuda:0'),\n",
      " 'train_dataset_precision': tensor(0.8730, device='cuda:0'),\n",
      " 'train_dataset_recall': tensor(0.9477, device='cuda:0'),\n",
      " 'train_per_image_accuracy': tensor(0.8721, device='cuda:0'),\n",
      " 'train_per_image_f1': tensor(0.8432, device='cuda:0'),\n",
      " 'train_per_image_iou': tensor(0.7765, device='cuda:0'),\n",
      " 'train_per_image_precision': tensor(0.8328, device='cuda:0'),\n",
      " 'train_per_image_recall': tensor(0.9165, device='cuda:0')}\n"
     ]
    },
    {
     "data": {
      "application/vnd.jupyter.widget-view+json": {
       "model_id": "",
       "version_major": 2,
       "version_minor": 0
      },
      "text/plain": [
       "Validation: 0it [00:00, ?it/s]"
      ]
     },
     "metadata": {},
     "output_type": "display_data"
    },
    {
     "name": "stdout",
     "output_type": "stream",
     "text": [
      "{'valid_dataset_accuracy': tensor(0.8974, device='cuda:0'),\n",
      " 'valid_dataset_f1': tensor(0.9255, device='cuda:0'),\n",
      " 'valid_dataset_iou': tensor(0.8614, device='cuda:0'),\n",
      " 'valid_dataset_precision': tensor(0.9041, device='cuda:0'),\n",
      " 'valid_dataset_recall': tensor(0.9480, device='cuda:0'),\n",
      " 'valid_per_image_accuracy': tensor(0.8974, device='cuda:0'),\n",
      " 'valid_per_image_f1': tensor(0.8624, device='cuda:0'),\n",
      " 'valid_per_image_iou': tensor(0.8003, device='cuda:0'),\n",
      " 'valid_per_image_precision': tensor(0.8676, device='cuda:0'),\n",
      " 'valid_per_image_recall': tensor(0.9073, device='cuda:0')}\n",
      "{'train_dataset_accuracy': tensor(0.8880, device='cuda:0'),\n",
      " 'train_dataset_f1': tensor(0.9197, device='cuda:0'),\n",
      " 'train_dataset_iou': tensor(0.8514, device='cuda:0'),\n",
      " 'train_dataset_precision': tensor(0.8877, device='cuda:0'),\n",
      " 'train_dataset_recall': tensor(0.9542, device='cuda:0'),\n",
      " 'train_per_image_accuracy': tensor(0.8880, device='cuda:0'),\n",
      " 'train_per_image_f1': tensor(0.8577, device='cuda:0'),\n",
      " 'train_per_image_iou': tensor(0.7943, device='cuda:0'),\n",
      " 'train_per_image_precision': tensor(0.8489, device='cuda:0'),\n",
      " 'train_per_image_recall': tensor(0.9197, device='cuda:0')}\n"
     ]
    },
    {
     "data": {
      "application/vnd.jupyter.widget-view+json": {
       "model_id": "",
       "version_major": 2,
       "version_minor": 0
      },
      "text/plain": [
       "Validation: 0it [00:00, ?it/s]"
      ]
     },
     "metadata": {},
     "output_type": "display_data"
    },
    {
     "name": "stdout",
     "output_type": "stream",
     "text": [
      "{'valid_dataset_accuracy': tensor(0.9046, device='cuda:0'),\n",
      " 'valid_dataset_f1': tensor(0.9313, device='cuda:0'),\n",
      " 'valid_dataset_iou': tensor(0.8714, device='cuda:0'),\n",
      " 'valid_dataset_precision': tensor(0.9037, device='cuda:0'),\n",
      " 'valid_dataset_recall': tensor(0.9605, device='cuda:0'),\n",
      " 'valid_per_image_accuracy': tensor(0.9046, device='cuda:0'),\n",
      " 'valid_per_image_f1': tensor(0.8741, device='cuda:0'),\n",
      " 'valid_per_image_iou': tensor(0.8147, device='cuda:0'),\n",
      " 'valid_per_image_precision': tensor(0.8645, device='cuda:0'),\n",
      " 'valid_per_image_recall': tensor(0.9282, device='cuda:0')}\n",
      "{'train_dataset_accuracy': tensor(0.8991, device='cuda:0'),\n",
      " 'train_dataset_f1': tensor(0.9273, device='cuda:0'),\n",
      " 'train_dataset_iou': tensor(0.8645, device='cuda:0'),\n",
      " 'train_dataset_precision': tensor(0.8989, device='cuda:0'),\n",
      " 'train_dataset_recall': tensor(0.9576, device='cuda:0'),\n",
      " 'train_per_image_accuracy': tensor(0.8991, device='cuda:0'),\n",
      " 'train_per_image_f1': tensor(0.8683, device='cuda:0'),\n",
      " 'train_per_image_iou': tensor(0.8072, device='cuda:0'),\n",
      " 'train_per_image_precision': tensor(0.8606, device='cuda:0'),\n",
      " 'train_per_image_recall': tensor(0.9229, device='cuda:0')}\n"
     ]
    },
    {
     "data": {
      "application/vnd.jupyter.widget-view+json": {
       "model_id": "",
       "version_major": 2,
       "version_minor": 0
      },
      "text/plain": [
       "Validation: 0it [00:00, ?it/s]"
      ]
     },
     "metadata": {},
     "output_type": "display_data"
    },
    {
     "name": "stdout",
     "output_type": "stream",
     "text": [
      "{'valid_dataset_accuracy': tensor(0.9108, device='cuda:0'),\n",
      " 'valid_dataset_f1': tensor(0.9351, device='cuda:0'),\n",
      " 'valid_dataset_iou': tensor(0.8782, device='cuda:0'),\n",
      " 'valid_dataset_precision': tensor(0.9152, device='cuda:0'),\n",
      " 'valid_dataset_recall': tensor(0.9560, device='cuda:0'),\n",
      " 'valid_per_image_accuracy': tensor(0.9108, device='cuda:0'),\n",
      " 'valid_per_image_f1': tensor(0.8791, device='cuda:0'),\n",
      " 'valid_per_image_iou': tensor(0.8207, device='cuda:0'),\n",
      " 'valid_per_image_precision': tensor(0.8808, device='cuda:0'),\n",
      " 'valid_per_image_recall': tensor(0.9191, device='cuda:0')}\n",
      "{'train_dataset_accuracy': tensor(0.9103, device='cuda:0'),\n",
      " 'train_dataset_f1': tensor(0.9352, device='cuda:0'),\n",
      " 'train_dataset_iou': tensor(0.8783, device='cuda:0'),\n",
      " 'train_dataset_precision': tensor(0.9094, device='cuda:0'),\n",
      " 'train_dataset_recall': tensor(0.9625, device='cuda:0'),\n",
      " 'train_per_image_accuracy': tensor(0.9103, device='cuda:0'),\n",
      " 'train_per_image_f1': tensor(0.8803, device='cuda:0'),\n",
      " 'train_per_image_iou': tensor(0.8221, device='cuda:0'),\n",
      " 'train_per_image_precision': tensor(0.8724, device='cuda:0'),\n",
      " 'train_per_image_recall': tensor(0.9279, device='cuda:0')}\n"
     ]
    },
    {
     "data": {
      "application/vnd.jupyter.widget-view+json": {
       "model_id": "",
       "version_major": 2,
       "version_minor": 0
      },
      "text/plain": [
       "Validation: 0it [00:00, ?it/s]"
      ]
     },
     "metadata": {},
     "output_type": "display_data"
    },
    {
     "name": "stdout",
     "output_type": "stream",
     "text": [
      "{'valid_dataset_accuracy': tensor(0.9185, device='cuda:0'),\n",
      " 'valid_dataset_f1': tensor(0.9413, device='cuda:0'),\n",
      " 'valid_dataset_iou': tensor(0.8891, device='cuda:0'),\n",
      " 'valid_dataset_precision': tensor(0.9131, device='cuda:0'),\n",
      " 'valid_dataset_recall': tensor(0.9714, device='cuda:0'),\n",
      " 'valid_per_image_accuracy': tensor(0.9185, device='cuda:0'),\n",
      " 'valid_per_image_f1': tensor(0.8907, device='cuda:0'),\n",
      " 'valid_per_image_iou': tensor(0.8354, device='cuda:0'),\n",
      " 'valid_per_image_precision': tensor(0.8774, device='cuda:0'),\n",
      " 'valid_per_image_recall': tensor(0.9395, device='cuda:0')}\n",
      "{'train_dataset_accuracy': tensor(0.9198, device='cuda:0'),\n",
      " 'train_dataset_f1': tensor(0.9419, device='cuda:0'),\n",
      " 'train_dataset_iou': tensor(0.8902, device='cuda:0'),\n",
      " 'train_dataset_precision': tensor(0.9188, device='cuda:0'),\n",
      " 'train_dataset_recall': tensor(0.9662, device='cuda:0'),\n",
      " 'train_per_image_accuracy': tensor(0.9198, device='cuda:0'),\n",
      " 'train_per_image_f1': tensor(0.8901, device='cuda:0'),\n",
      " 'train_per_image_iou': tensor(0.8349, device='cuda:0'),\n",
      " 'train_per_image_precision': tensor(0.8831, device='cuda:0'),\n",
      " 'train_per_image_recall': tensor(0.9307, device='cuda:0')}\n"
     ]
    },
    {
     "data": {
      "application/vnd.jupyter.widget-view+json": {
       "model_id": "",
       "version_major": 2,
       "version_minor": 0
      },
      "text/plain": [
       "Validation: 0it [00:00, ?it/s]"
      ]
     },
     "metadata": {},
     "output_type": "display_data"
    },
    {
     "name": "stdout",
     "output_type": "stream",
     "text": [
      "{'valid_dataset_accuracy': tensor(0.9250, device='cuda:0'),\n",
      " 'valid_dataset_f1': tensor(0.9457, device='cuda:0'),\n",
      " 'valid_dataset_iou': tensor(0.8969, device='cuda:0'),\n",
      " 'valid_dataset_precision': tensor(0.9224, device='cuda:0'),\n",
      " 'valid_dataset_recall': tensor(0.9701, device='cuda:0'),\n",
      " 'valid_per_image_accuracy': tensor(0.9250, device='cuda:0'),\n",
      " 'valid_per_image_f1': tensor(0.8959, device='cuda:0'),\n",
      " 'valid_per_image_iou': tensor(0.8421, device='cuda:0'),\n",
      " 'valid_per_image_precision': tensor(0.8869, device='cuda:0'),\n",
      " 'valid_per_image_recall': tensor(0.9382, device='cuda:0')}\n",
      "{'train_dataset_accuracy': tensor(0.9277, device='cuda:0'),\n",
      " 'train_dataset_f1': tensor(0.9474, device='cuda:0'),\n",
      " 'train_dataset_iou': tensor(0.9000, device='cuda:0'),\n",
      " 'train_dataset_precision': tensor(0.9274, device='cuda:0'),\n",
      " 'train_dataset_recall': tensor(0.9682, device='cuda:0'),\n",
      " 'train_per_image_accuracy': tensor(0.9277, device='cuda:0'),\n",
      " 'train_per_image_f1': tensor(0.8988, device='cuda:0'),\n",
      " 'train_per_image_iou': tensor(0.8460, device='cuda:0'),\n",
      " 'train_per_image_precision': tensor(0.8944, device='cuda:0'),\n",
      " 'train_per_image_recall': tensor(0.9327, device='cuda:0')}\n"
     ]
    },
    {
     "data": {
      "application/vnd.jupyter.widget-view+json": {
       "model_id": "",
       "version_major": 2,
       "version_minor": 0
      },
      "text/plain": [
       "Validation: 0it [00:00, ?it/s]"
      ]
     },
     "metadata": {},
     "output_type": "display_data"
    },
    {
     "name": "stdout",
     "output_type": "stream",
     "text": [
      "{'valid_dataset_accuracy': tensor(0.9319, device='cuda:0'),\n",
      " 'valid_dataset_f1': tensor(0.9498, device='cuda:0'),\n",
      " 'valid_dataset_iou': tensor(0.9044, device='cuda:0'),\n",
      " 'valid_dataset_precision': tensor(0.9417, device='cuda:0'),\n",
      " 'valid_dataset_recall': tensor(0.9580, device='cuda:0'),\n",
      " 'valid_per_image_accuracy': tensor(0.9319, device='cuda:0'),\n",
      " 'valid_per_image_f1': tensor(0.9019, device='cuda:0'),\n",
      " 'valid_per_image_iou': tensor(0.8492, device='cuda:0'),\n",
      " 'valid_per_image_precision': tensor(0.9105, device='cuda:0'),\n",
      " 'valid_per_image_recall': tensor(0.9208, device='cuda:0')}\n",
      "{'train_dataset_accuracy': tensor(0.9341, device='cuda:0'),\n",
      " 'train_dataset_f1': tensor(0.9520, device='cuda:0'),\n",
      " 'train_dataset_iou': tensor(0.9084, device='cuda:0'),\n",
      " 'train_dataset_precision': tensor(0.9326, device='cuda:0'),\n",
      " 'train_dataset_recall': tensor(0.9722, device='cuda:0'),\n",
      " 'train_per_image_accuracy': tensor(0.9341, device='cuda:0'),\n",
      " 'train_per_image_f1': tensor(0.9074, device='cuda:0'),\n",
      " 'train_per_image_iou': tensor(0.8576, device='cuda:0'),\n",
      " 'train_per_image_precision': tensor(0.9014, device='cuda:0'),\n",
      " 'train_per_image_recall': tensor(0.9391, device='cuda:0')}\n"
     ]
    },
    {
     "data": {
      "application/vnd.jupyter.widget-view+json": {
       "model_id": "",
       "version_major": 2,
       "version_minor": 0
      },
      "text/plain": [
       "Validation: 0it [00:00, ?it/s]"
      ]
     },
     "metadata": {},
     "output_type": "display_data"
    },
    {
     "name": "stdout",
     "output_type": "stream",
     "text": [
      "{'valid_dataset_accuracy': tensor(0.9374, device='cuda:0'),\n",
      " 'valid_dataset_f1': tensor(0.9540, device='cuda:0'),\n",
      " 'valid_dataset_iou': tensor(0.9120, device='cuda:0'),\n",
      " 'valid_dataset_precision': tensor(0.9436, device='cuda:0'),\n",
      " 'valid_dataset_recall': tensor(0.9645, device='cuda:0'),\n",
      " 'valid_per_image_accuracy': tensor(0.9374, device='cuda:0'),\n",
      " 'valid_per_image_f1': tensor(0.9088, device='cuda:0'),\n",
      " 'valid_per_image_iou': tensor(0.8587, device='cuda:0'),\n",
      " 'valid_per_image_precision': tensor(0.9172, device='cuda:0'),\n",
      " 'valid_per_image_recall': tensor(0.9243, device='cuda:0')}\n",
      "{'train_dataset_accuracy': tensor(0.9373, device='cuda:0'),\n",
      " 'train_dataset_f1': tensor(0.9543, device='cuda:0'),\n",
      " 'train_dataset_iou': tensor(0.9126, device='cuda:0'),\n",
      " 'train_dataset_precision': tensor(0.9369, device='cuda:0'),\n",
      " 'train_dataset_recall': tensor(0.9724, device='cuda:0'),\n",
      " 'train_per_image_accuracy': tensor(0.9373, device='cuda:0'),\n",
      " 'train_per_image_f1': tensor(0.9117, device='cuda:0'),\n",
      " 'train_per_image_iou': tensor(0.8632, device='cuda:0'),\n",
      " 'train_per_image_precision': tensor(0.9066, device='cuda:0'),\n",
      " 'train_per_image_recall': tensor(0.9414, device='cuda:0')}\n"
     ]
    },
    {
     "data": {
      "application/vnd.jupyter.widget-view+json": {
       "model_id": "",
       "version_major": 2,
       "version_minor": 0
      },
      "text/plain": [
       "Validation: 0it [00:00, ?it/s]"
      ]
     },
     "metadata": {},
     "output_type": "display_data"
    },
    {
     "name": "stdout",
     "output_type": "stream",
     "text": [
      "{'valid_dataset_accuracy': tensor(0.9406, device='cuda:0'),\n",
      " 'valid_dataset_f1': tensor(0.9567, device='cuda:0'),\n",
      " 'valid_dataset_iou': tensor(0.9170, device='cuda:0'),\n",
      " 'valid_dataset_precision': tensor(0.9387, device='cuda:0'),\n",
      " 'valid_dataset_recall': tensor(0.9754, device='cuda:0'),\n",
      " 'valid_per_image_accuracy': tensor(0.9406, device='cuda:0'),\n",
      " 'valid_per_image_f1': tensor(0.9154, device='cuda:0'),\n",
      " 'valid_per_image_iou': tensor(0.8678, device='cuda:0'),\n",
      " 'valid_per_image_precision': tensor(0.9098, device='cuda:0'),\n",
      " 'valid_per_image_recall': tensor(0.9440, device='cuda:0')}\n",
      "{'train_dataset_accuracy': tensor(0.9430, device='cuda:0'),\n",
      " 'train_dataset_f1': tensor(0.9583, device='cuda:0'),\n",
      " 'train_dataset_iou': tensor(0.9200, device='cuda:0'),\n",
      " 'train_dataset_precision': tensor(0.9421, device='cuda:0'),\n",
      " 'train_dataset_recall': tensor(0.9751, device='cuda:0'),\n",
      " 'train_per_image_accuracy': tensor(0.9430, device='cuda:0'),\n",
      " 'train_per_image_f1': tensor(0.9178, device='cuda:0'),\n",
      " 'train_per_image_iou': tensor(0.8713, device='cuda:0'),\n",
      " 'train_per_image_precision': tensor(0.9143, device='cuda:0'),\n",
      " 'train_per_image_recall': tensor(0.9434, device='cuda:0')}\n"
     ]
    },
    {
     "data": {
      "application/vnd.jupyter.widget-view+json": {
       "model_id": "",
       "version_major": 2,
       "version_minor": 0
      },
      "text/plain": [
       "Validation: 0it [00:00, ?it/s]"
      ]
     },
     "metadata": {},
     "output_type": "display_data"
    },
    {
     "name": "stdout",
     "output_type": "stream",
     "text": [
      "{'valid_dataset_accuracy': tensor(0.9369, device='cuda:0'),\n",
      " 'valid_dataset_f1': tensor(0.9541, device='cuda:0'),\n",
      " 'valid_dataset_iou': tensor(0.9122, device='cuda:0'),\n",
      " 'valid_dataset_precision': tensor(0.9343, device='cuda:0'),\n",
      " 'valid_dataset_recall': tensor(0.9746, device='cuda:0'),\n",
      " 'valid_per_image_accuracy': tensor(0.9369, device='cuda:0'),\n",
      " 'valid_per_image_f1': tensor(0.9133, device='cuda:0'),\n",
      " 'valid_per_image_iou': tensor(0.8646, device='cuda:0'),\n",
      " 'valid_per_image_precision': tensor(0.9063, device='cuda:0'),\n",
      " 'valid_per_image_recall': tensor(0.9454, device='cuda:0')}\n",
      "{'train_dataset_accuracy': tensor(0.9471, device='cuda:0'),\n",
      " 'train_dataset_f1': tensor(0.9613, device='cuda:0'),\n",
      " 'train_dataset_iou': tensor(0.9255, device='cuda:0'),\n",
      " 'train_dataset_precision': tensor(0.9467, device='cuda:0'),\n",
      " 'train_dataset_recall': tensor(0.9763, device='cuda:0'),\n",
      " 'train_per_image_accuracy': tensor(0.9471, device='cuda:0'),\n",
      " 'train_per_image_f1': tensor(0.9228, device='cuda:0'),\n",
      " 'train_per_image_iou': tensor(0.8785, device='cuda:0'),\n",
      " 'train_per_image_precision': tensor(0.9193, device='cuda:0'),\n",
      " 'train_per_image_recall': tensor(0.9454, device='cuda:0')}\n"
     ]
    },
    {
     "data": {
      "application/vnd.jupyter.widget-view+json": {
       "model_id": "",
       "version_major": 2,
       "version_minor": 0
      },
      "text/plain": [
       "Validation: 0it [00:00, ?it/s]"
      ]
     },
     "metadata": {},
     "output_type": "display_data"
    },
    {
     "name": "stdout",
     "output_type": "stream",
     "text": [
      "{'valid_dataset_accuracy': tensor(0.9458, device='cuda:0'),\n",
      " 'valid_dataset_f1': tensor(0.9604, device='cuda:0'),\n",
      " 'valid_dataset_iou': tensor(0.9238, device='cuda:0'),\n",
      " 'valid_dataset_precision': tensor(0.9443, device='cuda:0'),\n",
      " 'valid_dataset_recall': tensor(0.9770, device='cuda:0'),\n",
      " 'valid_per_image_accuracy': tensor(0.9458, device='cuda:0'),\n",
      " 'valid_per_image_f1': tensor(0.9217, device='cuda:0'),\n",
      " 'valid_per_image_iou': tensor(0.8764, device='cuda:0'),\n",
      " 'valid_per_image_precision': tensor(0.9152, device='cuda:0'),\n",
      " 'valid_per_image_recall': tensor(0.9493, device='cuda:0')}\n",
      "{'train_dataset_accuracy': tensor(0.9493, device='cuda:0'),\n",
      " 'train_dataset_f1': tensor(0.9628, device='cuda:0'),\n",
      " 'train_dataset_iou': tensor(0.9283, device='cuda:0'),\n",
      " 'train_dataset_precision': tensor(0.9489, device='cuda:0'),\n",
      " 'train_dataset_recall': tensor(0.9772, device='cuda:0'),\n",
      " 'train_per_image_accuracy': tensor(0.9493, device='cuda:0'),\n",
      " 'train_per_image_f1': tensor(0.9265, device='cuda:0'),\n",
      " 'train_per_image_iou': tensor(0.8832, device='cuda:0'),\n",
      " 'train_per_image_precision': tensor(0.9233, device='cuda:0'),\n",
      " 'train_per_image_recall': tensor(0.9476, device='cuda:0')}\n"
     ]
    },
    {
     "data": {
      "application/vnd.jupyter.widget-view+json": {
       "model_id": "",
       "version_major": 2,
       "version_minor": 0
      },
      "text/plain": [
       "Validation: 0it [00:00, ?it/s]"
      ]
     },
     "metadata": {},
     "output_type": "display_data"
    },
    {
     "name": "stdout",
     "output_type": "stream",
     "text": [
      "{'valid_dataset_accuracy': tensor(0.9475, device='cuda:0'),\n",
      " 'valid_dataset_f1': tensor(0.9616, device='cuda:0'),\n",
      " 'valid_dataset_iou': tensor(0.9261, device='cuda:0'),\n",
      " 'valid_dataset_precision': tensor(0.9462, device='cuda:0'),\n",
      " 'valid_dataset_recall': tensor(0.9776, device='cuda:0'),\n",
      " 'valid_per_image_accuracy': tensor(0.9475, device='cuda:0'),\n",
      " 'valid_per_image_f1': tensor(0.9241, device='cuda:0'),\n",
      " 'valid_per_image_iou': tensor(0.8793, device='cuda:0'),\n",
      " 'valid_per_image_precision': tensor(0.9198, device='cuda:0'),\n",
      " 'valid_per_image_recall': tensor(0.9489, device='cuda:0')}\n",
      "{'train_dataset_accuracy': tensor(0.9532, device='cuda:0'),\n",
      " 'train_dataset_f1': tensor(0.9657, device='cuda:0'),\n",
      " 'train_dataset_iou': tensor(0.9336, device='cuda:0'),\n",
      " 'train_dataset_precision': tensor(0.9528, device='cuda:0'),\n",
      " 'train_dataset_recall': tensor(0.9788, device='cuda:0'),\n",
      " 'train_per_image_accuracy': tensor(0.9532, device='cuda:0'),\n",
      " 'train_per_image_f1': tensor(0.9316, device='cuda:0'),\n",
      " 'train_per_image_iou': tensor(0.8899, device='cuda:0'),\n",
      " 'train_per_image_precision': tensor(0.9289, device='cuda:0'),\n",
      " 'train_per_image_recall': tensor(0.9503, device='cuda:0')}\n"
     ]
    },
    {
     "data": {
      "application/vnd.jupyter.widget-view+json": {
       "model_id": "",
       "version_major": 2,
       "version_minor": 0
      },
      "text/plain": [
       "Validation: 0it [00:00, ?it/s]"
      ]
     },
     "metadata": {},
     "output_type": "display_data"
    },
    {
     "name": "stdout",
     "output_type": "stream",
     "text": [
      "{'valid_dataset_accuracy': tensor(0.9505, device='cuda:0'),\n",
      " 'valid_dataset_f1': tensor(0.9635, device='cuda:0'),\n",
      " 'valid_dataset_iou': tensor(0.9297, device='cuda:0'),\n",
      " 'valid_dataset_precision': tensor(0.9546, device='cuda:0'),\n",
      " 'valid_dataset_recall': tensor(0.9727, device='cuda:0'),\n",
      " 'valid_per_image_accuracy': tensor(0.9505, device='cuda:0'),\n",
      " 'valid_per_image_f1': tensor(0.9284, device='cuda:0'),\n",
      " 'valid_per_image_iou': tensor(0.8849, device='cuda:0'),\n",
      " 'valid_per_image_precision': tensor(0.9285, device='cuda:0'),\n",
      " 'valid_per_image_recall': tensor(0.9459, device='cuda:0')}\n",
      "{'train_dataset_accuracy': tensor(0.9558, device='cuda:0'),\n",
      " 'train_dataset_f1': tensor(0.9676, device='cuda:0'),\n",
      " 'train_dataset_iou': tensor(0.9372, device='cuda:0'),\n",
      " 'train_dataset_precision': tensor(0.9553, device='cuda:0'),\n",
      " 'train_dataset_recall': tensor(0.9801, device='cuda:0'),\n",
      " 'train_per_image_accuracy': tensor(0.9558, device='cuda:0'),\n",
      " 'train_per_image_f1': tensor(0.9354, device='cuda:0'),\n",
      " 'train_per_image_iou': tensor(0.8955, device='cuda:0'),\n",
      " 'train_per_image_precision': tensor(0.9326, device='cuda:0'),\n",
      " 'train_per_image_recall': tensor(0.9533, device='cuda:0')}\n"
     ]
    },
    {
     "data": {
      "application/vnd.jupyter.widget-view+json": {
       "model_id": "",
       "version_major": 2,
       "version_minor": 0
      },
      "text/plain": [
       "Validation: 0it [00:00, ?it/s]"
      ]
     },
     "metadata": {},
     "output_type": "display_data"
    },
    {
     "name": "stdout",
     "output_type": "stream",
     "text": [
      "{'valid_dataset_accuracy': tensor(0.9520, device='cuda:0'),\n",
      " 'valid_dataset_f1': tensor(0.9648, device='cuda:0'),\n",
      " 'valid_dataset_iou': tensor(0.9320, device='cuda:0'),\n",
      " 'valid_dataset_precision': tensor(0.9533, device='cuda:0'),\n",
      " 'valid_dataset_recall': tensor(0.9765, device='cuda:0'),\n",
      " 'valid_per_image_accuracy': tensor(0.9520, device='cuda:0'),\n",
      " 'valid_per_image_f1': tensor(0.9305, device='cuda:0'),\n",
      " 'valid_per_image_iou': tensor(0.8879, device='cuda:0'),\n",
      " 'valid_per_image_precision': tensor(0.9285, device='cuda:0'),\n",
      " 'valid_per_image_recall': tensor(0.9497, device='cuda:0')}\n",
      "{'train_dataset_accuracy': tensor(0.9577, device='cuda:0'),\n",
      " 'train_dataset_f1': tensor(0.9689, device='cuda:0'),\n",
      " 'train_dataset_iou': tensor(0.9398, device='cuda:0'),\n",
      " 'train_dataset_precision': tensor(0.9574, device='cuda:0'),\n",
      " 'train_dataset_recall': tensor(0.9808, device='cuda:0'),\n",
      " 'train_per_image_accuracy': tensor(0.9577, device='cuda:0'),\n",
      " 'train_per_image_f1': tensor(0.9384, device='cuda:0'),\n",
      " 'train_per_image_iou': tensor(0.8996, device='cuda:0'),\n",
      " 'train_per_image_precision': tensor(0.9361, device='cuda:0'),\n",
      " 'train_per_image_recall': tensor(0.9547, device='cuda:0')}\n"
     ]
    },
    {
     "data": {
      "application/vnd.jupyter.widget-view+json": {
       "model_id": "",
       "version_major": 2,
       "version_minor": 0
      },
      "text/plain": [
       "Validation: 0it [00:00, ?it/s]"
      ]
     },
     "metadata": {},
     "output_type": "display_data"
    },
    {
     "name": "stdout",
     "output_type": "stream",
     "text": [
      "{'valid_dataset_accuracy': tensor(0.9535, device='cuda:0'),\n",
      " 'valid_dataset_f1': tensor(0.9657, device='cuda:0'),\n",
      " 'valid_dataset_iou': tensor(0.9337, device='cuda:0'),\n",
      " 'valid_dataset_precision': tensor(0.9583, device='cuda:0'),\n",
      " 'valid_dataset_recall': tensor(0.9733, device='cuda:0'),\n",
      " 'valid_per_image_accuracy': tensor(0.9535, device='cuda:0'),\n",
      " 'valid_per_image_f1': tensor(0.9311, device='cuda:0'),\n",
      " 'valid_per_image_iou': tensor(0.8888, device='cuda:0'),\n",
      " 'valid_per_image_precision': tensor(0.9350, device='cuda:0'),\n",
      " 'valid_per_image_recall': tensor(0.9434, device='cuda:0')}\n",
      "{'train_dataset_accuracy': tensor(0.9565, device='cuda:0'),\n",
      " 'train_dataset_f1': tensor(0.9681, device='cuda:0'),\n",
      " 'train_dataset_iou': tensor(0.9381, device='cuda:0'),\n",
      " 'train_dataset_precision': tensor(0.9557, device='cuda:0'),\n",
      " 'train_dataset_recall': tensor(0.9808, device='cuda:0'),\n",
      " 'train_per_image_accuracy': tensor(0.9565, device='cuda:0'),\n",
      " 'train_per_image_f1': tensor(0.9382, device='cuda:0'),\n",
      " 'train_per_image_iou': tensor(0.8993, device='cuda:0'),\n",
      " 'train_per_image_precision': tensor(0.9350, device='cuda:0'),\n",
      " 'train_per_image_recall': tensor(0.9561, device='cuda:0')}\n"
     ]
    },
    {
     "data": {
      "application/vnd.jupyter.widget-view+json": {
       "model_id": "",
       "version_major": 2,
       "version_minor": 0
      },
      "text/plain": [
       "Validation: 0it [00:00, ?it/s]"
      ]
     },
     "metadata": {},
     "output_type": "display_data"
    },
    {
     "name": "stdout",
     "output_type": "stream",
     "text": [
      "{'valid_dataset_accuracy': tensor(0.9566, device='cuda:0'),\n",
      " 'valid_dataset_f1': tensor(0.9679, device='cuda:0'),\n",
      " 'valid_dataset_iou': tensor(0.9378, device='cuda:0'),\n",
      " 'valid_dataset_precision': tensor(0.9630, device='cuda:0'),\n",
      " 'valid_dataset_recall': tensor(0.9728, device='cuda:0'),\n",
      " 'valid_per_image_accuracy': tensor(0.9566, device='cuda:0'),\n",
      " 'valid_per_image_f1': tensor(0.9360, device='cuda:0'),\n",
      " 'valid_per_image_iou': tensor(0.8958, device='cuda:0'),\n",
      " 'valid_per_image_precision': tensor(0.9451, device='cuda:0'),\n",
      " 'valid_per_image_recall': tensor(0.9428, device='cuda:0')}\n",
      "{'train_dataset_accuracy': tensor(0.9614, device='cuda:0'),\n",
      " 'train_dataset_f1': tensor(0.9716, device='cuda:0'),\n",
      " 'train_dataset_iou': tensor(0.9448, device='cuda:0'),\n",
      " 'train_dataset_precision': tensor(0.9607, device='cuda:0'),\n",
      " 'train_dataset_recall': tensor(0.9827, device='cuda:0'),\n",
      " 'train_per_image_accuracy': tensor(0.9614, device='cuda:0'),\n",
      " 'train_per_image_f1': tensor(0.9445, device='cuda:0'),\n",
      " 'train_per_image_iou': tensor(0.9081, device='cuda:0'),\n",
      " 'train_per_image_precision': tensor(0.9422, device='cuda:0'),\n",
      " 'train_per_image_recall': tensor(0.9587, device='cuda:0')}\n"
     ]
    },
    {
     "data": {
      "application/vnd.jupyter.widget-view+json": {
       "model_id": "",
       "version_major": 2,
       "version_minor": 0
      },
      "text/plain": [
       "Validation: 0it [00:00, ?it/s]"
      ]
     },
     "metadata": {},
     "output_type": "display_data"
    },
    {
     "name": "stdout",
     "output_type": "stream",
     "text": [
      "{'valid_dataset_accuracy': tensor(0.9581, device='cuda:0'),\n",
      " 'valid_dataset_f1': tensor(0.9690, device='cuda:0'),\n",
      " 'valid_dataset_iou': tensor(0.9398, device='cuda:0'),\n",
      " 'valid_dataset_precision': tensor(0.9642, device='cuda:0'),\n",
      " 'valid_dataset_recall': tensor(0.9738, device='cuda:0'),\n",
      " 'valid_per_image_accuracy': tensor(0.9581, device='cuda:0'),\n",
      " 'valid_per_image_f1': tensor(0.9382, device='cuda:0'),\n",
      " 'valid_per_image_iou': tensor(0.8987, device='cuda:0'),\n",
      " 'valid_per_image_precision': tensor(0.9415, device='cuda:0'),\n",
      " 'valid_per_image_recall': tensor(0.9487, device='cuda:0')}\n",
      "{'train_dataset_accuracy': tensor(0.9619, device='cuda:0'),\n",
      " 'train_dataset_f1': tensor(0.9720, device='cuda:0'),\n",
      " 'train_dataset_iou': tensor(0.9455, device='cuda:0'),\n",
      " 'train_dataset_precision': tensor(0.9618, device='cuda:0'),\n",
      " 'train_dataset_recall': tensor(0.9825, device='cuda:0'),\n",
      " 'train_per_image_accuracy': tensor(0.9619, device='cuda:0'),\n",
      " 'train_per_image_f1': tensor(0.9447, device='cuda:0'),\n",
      " 'train_per_image_iou': tensor(0.9085, device='cuda:0'),\n",
      " 'train_per_image_precision': tensor(0.9420, device='cuda:0'),\n",
      " 'train_per_image_recall': tensor(0.9591, device='cuda:0')}\n"
     ]
    },
    {
     "data": {
      "application/vnd.jupyter.widget-view+json": {
       "model_id": "",
       "version_major": 2,
       "version_minor": 0
      },
      "text/plain": [
       "Validation: 0it [00:00, ?it/s]"
      ]
     },
     "metadata": {},
     "output_type": "display_data"
    },
    {
     "name": "stdout",
     "output_type": "stream",
     "text": [
      "{'valid_dataset_accuracy': tensor(0.9477, device='cuda:0'),\n",
      " 'valid_dataset_f1': tensor(0.9608, device='cuda:0'),\n",
      " 'valid_dataset_iou': tensor(0.9246, device='cuda:0'),\n",
      " 'valid_dataset_precision': tensor(0.9692, device='cuda:0'),\n",
      " 'valid_dataset_recall': tensor(0.9525, device='cuda:0'),\n",
      " 'valid_per_image_accuracy': tensor(0.9477, device='cuda:0'),\n",
      " 'valid_per_image_f1': tensor(0.9251, device='cuda:0'),\n",
      " 'valid_per_image_iou': tensor(0.8796, device='cuda:0'),\n",
      " 'valid_per_image_precision': tensor(0.9473, device='cuda:0'),\n",
      " 'valid_per_image_recall': tensor(0.9221, device='cuda:0')}\n",
      "{'train_dataset_accuracy': tensor(0.9643, device='cuda:0'),\n",
      " 'train_dataset_f1': tensor(0.9737, device='cuda:0'),\n",
      " 'train_dataset_iou': tensor(0.9488, device='cuda:0'),\n",
      " 'train_dataset_precision': tensor(0.9639, device='cuda:0'),\n",
      " 'train_dataset_recall': tensor(0.9838, device='cuda:0'),\n",
      " 'train_per_image_accuracy': tensor(0.9643, device='cuda:0'),\n",
      " 'train_per_image_f1': tensor(0.9479, device='cuda:0'),\n",
      " 'train_per_image_iou': tensor(0.9135, device='cuda:0'),\n",
      " 'train_per_image_precision': tensor(0.9460, device='cuda:0'),\n",
      " 'train_per_image_recall': tensor(0.9610, device='cuda:0')}\n"
     ]
    },
    {
     "data": {
      "application/vnd.jupyter.widget-view+json": {
       "model_id": "",
       "version_major": 2,
       "version_minor": 0
      },
      "text/plain": [
       "Validation: 0it [00:00, ?it/s]"
      ]
     },
     "metadata": {},
     "output_type": "display_data"
    },
    {
     "name": "stdout",
     "output_type": "stream",
     "text": [
      "{'valid_dataset_accuracy': tensor(0.9582, device='cuda:0'),\n",
      " 'valid_dataset_f1': tensor(0.9691, device='cuda:0'),\n",
      " 'valid_dataset_iou': tensor(0.9400, device='cuda:0'),\n",
      " 'valid_dataset_precision': tensor(0.9648, device='cuda:0'),\n",
      " 'valid_dataset_recall': tensor(0.9733, device='cuda:0'),\n",
      " 'valid_per_image_accuracy': tensor(0.9582, device='cuda:0'),\n",
      " 'valid_per_image_f1': tensor(0.9390, device='cuda:0'),\n",
      " 'valid_per_image_iou': tensor(0.9001, device='cuda:0'),\n",
      " 'valid_per_image_precision': tensor(0.9447, device='cuda:0'),\n",
      " 'valid_per_image_recall': tensor(0.9480, device='cuda:0')}\n",
      "{'train_dataset_accuracy': tensor(0.9643, device='cuda:0'),\n",
      " 'train_dataset_f1': tensor(0.9737, device='cuda:0'),\n",
      " 'train_dataset_iou': tensor(0.9488, device='cuda:0'),\n",
      " 'train_dataset_precision': tensor(0.9641, device='cuda:0'),\n",
      " 'train_dataset_recall': tensor(0.9836, device='cuda:0'),\n",
      " 'train_per_image_accuracy': tensor(0.9643, device='cuda:0'),\n",
      " 'train_per_image_f1': tensor(0.9483, device='cuda:0'),\n",
      " 'train_per_image_iou': tensor(0.9137, device='cuda:0'),\n",
      " 'train_per_image_precision': tensor(0.9461, device='cuda:0'),\n",
      " 'train_per_image_recall': tensor(0.9612, device='cuda:0')}\n"
     ]
    },
    {
     "data": {
      "application/vnd.jupyter.widget-view+json": {
       "model_id": "",
       "version_major": 2,
       "version_minor": 0
      },
      "text/plain": [
       "Validation: 0it [00:00, ?it/s]"
      ]
     },
     "metadata": {},
     "output_type": "display_data"
    },
    {
     "name": "stdout",
     "output_type": "stream",
     "text": [
      "{'valid_dataset_accuracy': tensor(0.9625, device='cuda:0'),\n",
      " 'valid_dataset_f1': tensor(0.9723, device='cuda:0'),\n",
      " 'valid_dataset_iou': tensor(0.9461, device='cuda:0'),\n",
      " 'valid_dataset_precision': tensor(0.9650, device='cuda:0'),\n",
      " 'valid_dataset_recall': tensor(0.9797, device='cuda:0'),\n",
      " 'valid_per_image_accuracy': tensor(0.9625, device='cuda:0'),\n",
      " 'valid_per_image_f1': tensor(0.9452, device='cuda:0'),\n",
      " 'valid_per_image_iou': tensor(0.9093, device='cuda:0'),\n",
      " 'valid_per_image_precision': tensor(0.9446, device='cuda:0'),\n",
      " 'valid_per_image_recall': tensor(0.9582, device='cuda:0')}\n",
      "{'train_dataset_accuracy': tensor(0.9639, device='cuda:0'),\n",
      " 'train_dataset_f1': tensor(0.9735, device='cuda:0'),\n",
      " 'train_dataset_iou': tensor(0.9483, device='cuda:0'),\n",
      " 'train_dataset_precision': tensor(0.9642, device='cuda:0'),\n",
      " 'train_dataset_recall': tensor(0.9829, device='cuda:0'),\n",
      " 'train_per_image_accuracy': tensor(0.9639, device='cuda:0'),\n",
      " 'train_per_image_f1': tensor(0.9477, device='cuda:0'),\n",
      " 'train_per_image_iou': tensor(0.9130, device='cuda:0'),\n",
      " 'train_per_image_precision': tensor(0.9461, device='cuda:0'),\n",
      " 'train_per_image_recall': tensor(0.9601, device='cuda:0')}\n"
     ]
    },
    {
     "data": {
      "application/vnd.jupyter.widget-view+json": {
       "model_id": "",
       "version_major": 2,
       "version_minor": 0
      },
      "text/plain": [
       "Validation: 0it [00:00, ?it/s]"
      ]
     },
     "metadata": {},
     "output_type": "display_data"
    },
    {
     "name": "stdout",
     "output_type": "stream",
     "text": [
      "{'valid_dataset_accuracy': tensor(0.9629, device='cuda:0'),\n",
      " 'valid_dataset_f1': tensor(0.9727, device='cuda:0'),\n",
      " 'valid_dataset_iou': tensor(0.9468, device='cuda:0'),\n",
      " 'valid_dataset_precision': tensor(0.9633, device='cuda:0'),\n",
      " 'valid_dataset_recall': tensor(0.9823, device='cuda:0'),\n",
      " 'valid_per_image_accuracy': tensor(0.9629, device='cuda:0'),\n",
      " 'valid_per_image_f1': tensor(0.9448, device='cuda:0'),\n",
      " 'valid_per_image_iou': tensor(0.9090, device='cuda:0'),\n",
      " 'valid_per_image_precision': tensor(0.9416, device='cuda:0'),\n",
      " 'valid_per_image_recall': tensor(0.9607, device='cuda:0')}\n",
      "{'train_dataset_accuracy': tensor(0.9650, device='cuda:0'),\n",
      " 'train_dataset_f1': tensor(0.9742, device='cuda:0'),\n",
      " 'train_dataset_iou': tensor(0.9497, device='cuda:0'),\n",
      " 'train_dataset_precision': tensor(0.9649, device='cuda:0'),\n",
      " 'train_dataset_recall': tensor(0.9837, device='cuda:0'),\n",
      " 'train_per_image_accuracy': tensor(0.9650, device='cuda:0'),\n",
      " 'train_per_image_f1': tensor(0.9496, device='cuda:0'),\n",
      " 'train_per_image_iou': tensor(0.9159, device='cuda:0'),\n",
      " 'train_per_image_precision': tensor(0.9485, device='cuda:0'),\n",
      " 'train_per_image_recall': tensor(0.9617, device='cuda:0')}\n"
     ]
    },
    {
     "data": {
      "application/vnd.jupyter.widget-view+json": {
       "model_id": "",
       "version_major": 2,
       "version_minor": 0
      },
      "text/plain": [
       "Validation: 0it [00:00, ?it/s]"
      ]
     },
     "metadata": {},
     "output_type": "display_data"
    },
    {
     "name": "stdout",
     "output_type": "stream",
     "text": [
      "{'valid_dataset_accuracy': tensor(0.9642, device='cuda:0'),\n",
      " 'valid_dataset_f1': tensor(0.9736, device='cuda:0'),\n",
      " 'valid_dataset_iou': tensor(0.9486, device='cuda:0'),\n",
      " 'valid_dataset_precision': tensor(0.9661, device='cuda:0'),\n",
      " 'valid_dataset_recall': tensor(0.9813, device='cuda:0'),\n",
      " 'valid_per_image_accuracy': tensor(0.9642, device='cuda:0'),\n",
      " 'valid_per_image_f1': tensor(0.9467, device='cuda:0'),\n",
      " 'valid_per_image_iou': tensor(0.9116, device='cuda:0'),\n",
      " 'valid_per_image_precision': tensor(0.9474, device='cuda:0'),\n",
      " 'valid_per_image_recall': tensor(0.9573, device='cuda:0')}\n",
      "{'train_dataset_accuracy': tensor(0.9686, device='cuda:0'),\n",
      " 'train_dataset_f1': tensor(0.9769, device='cuda:0'),\n",
      " 'train_dataset_iou': tensor(0.9548, device='cuda:0'),\n",
      " 'train_dataset_precision': tensor(0.9682, device='cuda:0'),\n",
      " 'train_dataset_recall': tensor(0.9856, device='cuda:0'),\n",
      " 'train_per_image_accuracy': tensor(0.9686, device='cuda:0'),\n",
      " 'train_per_image_f1': tensor(0.9544, device='cuda:0'),\n",
      " 'train_per_image_iou': tensor(0.9232, device='cuda:0'),\n",
      " 'train_per_image_precision': tensor(0.9523, device='cuda:0'),\n",
      " 'train_per_image_recall': tensor(0.9650, device='cuda:0')}\n"
     ]
    },
    {
     "data": {
      "application/vnd.jupyter.widget-view+json": {
       "model_id": "",
       "version_major": 2,
       "version_minor": 0
      },
      "text/plain": [
       "Validation: 0it [00:00, ?it/s]"
      ]
     },
     "metadata": {},
     "output_type": "display_data"
    },
    {
     "name": "stdout",
     "output_type": "stream",
     "text": [
      "{'valid_dataset_accuracy': tensor(0.9664, device='cuda:0'),\n",
      " 'valid_dataset_f1': tensor(0.9752, device='cuda:0'),\n",
      " 'valid_dataset_iou': tensor(0.9517, device='cuda:0'),\n",
      " 'valid_dataset_precision': tensor(0.9656, device='cuda:0'),\n",
      " 'valid_dataset_recall': tensor(0.9851, device='cuda:0'),\n",
      " 'valid_per_image_accuracy': tensor(0.9664, device='cuda:0'),\n",
      " 'valid_per_image_f1': tensor(0.9502, device='cuda:0'),\n",
      " 'valid_per_image_iou': tensor(0.9169, device='cuda:0'),\n",
      " 'valid_per_image_precision': tensor(0.9468, device='cuda:0'),\n",
      " 'valid_per_image_recall': tensor(0.9646, device='cuda:0')}\n",
      "{'train_dataset_accuracy': tensor(0.9710, device='cuda:0'),\n",
      " 'train_dataset_f1': tensor(0.9786, device='cuda:0'),\n",
      " 'train_dataset_iou': tensor(0.9581, device='cuda:0'),\n",
      " 'train_dataset_precision': tensor(0.9703, device='cuda:0'),\n",
      " 'train_dataset_recall': tensor(0.9871, device='cuda:0'),\n",
      " 'train_per_image_accuracy': tensor(0.9710, device='cuda:0'),\n",
      " 'train_per_image_f1': tensor(0.9578, device='cuda:0'),\n",
      " 'train_per_image_iou': tensor(0.9287, device='cuda:0'),\n",
      " 'train_per_image_precision': tensor(0.9563, device='cuda:0'),\n",
      " 'train_per_image_recall': tensor(0.9675, device='cuda:0')}\n"
     ]
    },
    {
     "data": {
      "application/vnd.jupyter.widget-view+json": {
       "model_id": "",
       "version_major": 2,
       "version_minor": 0
      },
      "text/plain": [
       "Validation: 0it [00:00, ?it/s]"
      ]
     },
     "metadata": {},
     "output_type": "display_data"
    },
    {
     "name": "stdout",
     "output_type": "stream",
     "text": [
      "{'valid_dataset_accuracy': tensor(0.9667, device='cuda:0'),\n",
      " 'valid_dataset_f1': tensor(0.9754, device='cuda:0'),\n",
      " 'valid_dataset_iou': tensor(0.9521, device='cuda:0'),\n",
      " 'valid_dataset_precision': tensor(0.9674, device='cuda:0'),\n",
      " 'valid_dataset_recall': tensor(0.9836, device='cuda:0'),\n",
      " 'valid_per_image_accuracy': tensor(0.9667, device='cuda:0'),\n",
      " 'valid_per_image_f1': tensor(0.9513, device='cuda:0'),\n",
      " 'valid_per_image_iou': tensor(0.9184, device='cuda:0'),\n",
      " 'valid_per_image_precision': tensor(0.9483, device='cuda:0'),\n",
      " 'valid_per_image_recall': tensor(0.9645, device='cuda:0')}\n",
      "{'train_dataset_accuracy': tensor(0.9723, device='cuda:0'),\n",
      " 'train_dataset_f1': tensor(0.9796, device='cuda:0'),\n",
      " 'train_dataset_iou': tensor(0.9600, device='cuda:0'),\n",
      " 'train_dataset_precision': tensor(0.9714, device='cuda:0'),\n",
      " 'train_dataset_recall': tensor(0.9879, device='cuda:0'),\n",
      " 'train_per_image_accuracy': tensor(0.9723, device='cuda:0'),\n",
      " 'train_per_image_f1': tensor(0.9599, device='cuda:0'),\n",
      " 'train_per_image_iou': tensor(0.9319, device='cuda:0'),\n",
      " 'train_per_image_precision': tensor(0.9582, device='cuda:0'),\n",
      " 'train_per_image_recall': tensor(0.9692, device='cuda:0')}\n"
     ]
    },
    {
     "data": {
      "application/vnd.jupyter.widget-view+json": {
       "model_id": "",
       "version_major": 2,
       "version_minor": 0
      },
      "text/plain": [
       "Validation: 0it [00:00, ?it/s]"
      ]
     },
     "metadata": {},
     "output_type": "display_data"
    },
    {
     "name": "stdout",
     "output_type": "stream",
     "text": [
      "{'valid_dataset_accuracy': tensor(0.9666, device='cuda:0'),\n",
      " 'valid_dataset_f1': tensor(0.9753, device='cuda:0'),\n",
      " 'valid_dataset_iou': tensor(0.9518, device='cuda:0'),\n",
      " 'valid_dataset_precision': tensor(0.9703, device='cuda:0'),\n",
      " 'valid_dataset_recall': tensor(0.9803, device='cuda:0'),\n",
      " 'valid_per_image_accuracy': tensor(0.9666, device='cuda:0'),\n",
      " 'valid_per_image_f1': tensor(0.9506, device='cuda:0'),\n",
      " 'valid_per_image_iou': tensor(0.9176, device='cuda:0'),\n",
      " 'valid_per_image_precision': tensor(0.9501, device='cuda:0'),\n",
      " 'valid_per_image_recall': tensor(0.9613, device='cuda:0')}\n",
      "{'train_dataset_accuracy': tensor(0.9731, device='cuda:0'),\n",
      " 'train_dataset_f1': tensor(0.9802, device='cuda:0'),\n",
      " 'train_dataset_iou': tensor(0.9612, device='cuda:0'),\n",
      " 'train_dataset_precision': tensor(0.9721, device='cuda:0'),\n",
      " 'train_dataset_recall': tensor(0.9885, device='cuda:0'),\n",
      " 'train_per_image_accuracy': tensor(0.9731, device='cuda:0'),\n",
      " 'train_per_image_f1': tensor(0.9611, device='cuda:0'),\n",
      " 'train_per_image_iou': tensor(0.9336, device='cuda:0'),\n",
      " 'train_per_image_precision': tensor(0.9592, device='cuda:0'),\n",
      " 'train_per_image_recall': tensor(0.9702, device='cuda:0')}\n"
     ]
    },
    {
     "data": {
      "application/vnd.jupyter.widget-view+json": {
       "model_id": "",
       "version_major": 2,
       "version_minor": 0
      },
      "text/plain": [
       "Validation: 0it [00:00, ?it/s]"
      ]
     },
     "metadata": {},
     "output_type": "display_data"
    },
    {
     "name": "stdout",
     "output_type": "stream",
     "text": [
      "{'valid_dataset_accuracy': tensor(0.9628, device='cuda:0'),\n",
      " 'valid_dataset_f1': tensor(0.9723, device='cuda:0'),\n",
      " 'valid_dataset_iou': tensor(0.9462, device='cuda:0'),\n",
      " 'valid_dataset_precision': tensor(0.9725, device='cuda:0'),\n",
      " 'valid_dataset_recall': tensor(0.9722, device='cuda:0'),\n",
      " 'valid_per_image_accuracy': tensor(0.9628, device='cuda:0'),\n",
      " 'valid_per_image_f1': tensor(0.9442, device='cuda:0'),\n",
      " 'valid_per_image_iou': tensor(0.9079, device='cuda:0'),\n",
      " 'valid_per_image_precision': tensor(0.9559, device='cuda:0'),\n",
      " 'valid_per_image_recall': tensor(0.9453, device='cuda:0')}\n",
      "{'train_dataset_accuracy': tensor(0.9724, device='cuda:0'),\n",
      " 'train_dataset_f1': tensor(0.9797, device='cuda:0'),\n",
      " 'train_dataset_iou': tensor(0.9601, device='cuda:0'),\n",
      " 'train_dataset_precision': tensor(0.9719, device='cuda:0'),\n",
      " 'train_dataset_recall': tensor(0.9876, device='cuda:0'),\n",
      " 'train_per_image_accuracy': tensor(0.9724, device='cuda:0'),\n",
      " 'train_per_image_f1': tensor(0.9593, device='cuda:0'),\n",
      " 'train_per_image_iou': tensor(0.9309, device='cuda:0'),\n",
      " 'train_per_image_precision': tensor(0.9579, device='cuda:0'),\n",
      " 'train_per_image_recall': tensor(0.9686, device='cuda:0')}\n"
     ]
    },
    {
     "data": {
      "application/vnd.jupyter.widget-view+json": {
       "model_id": "",
       "version_major": 2,
       "version_minor": 0
      },
      "text/plain": [
       "Validation: 0it [00:00, ?it/s]"
      ]
     },
     "metadata": {},
     "output_type": "display_data"
    },
    {
     "name": "stdout",
     "output_type": "stream",
     "text": [
      "{'valid_dataset_accuracy': tensor(0.9669, device='cuda:0'),\n",
      " 'valid_dataset_f1': tensor(0.9755, device='cuda:0'),\n",
      " 'valid_dataset_iou': tensor(0.9523, device='cuda:0'),\n",
      " 'valid_dataset_precision': tensor(0.9682, device='cuda:0'),\n",
      " 'valid_dataset_recall': tensor(0.9830, device='cuda:0'),\n",
      " 'valid_per_image_accuracy': tensor(0.9669, device='cuda:0'),\n",
      " 'valid_per_image_f1': tensor(0.9521, device='cuda:0'),\n",
      " 'valid_per_image_iou': tensor(0.9193, device='cuda:0'),\n",
      " 'valid_per_image_precision': tensor(0.9520, device='cuda:0'),\n",
      " 'valid_per_image_recall': tensor(0.9629, device='cuda:0')}\n",
      "{'train_dataset_accuracy': tensor(0.9732, device='cuda:0'),\n",
      " 'train_dataset_f1': tensor(0.9802, device='cuda:0'),\n",
      " 'train_dataset_iou': tensor(0.9612, device='cuda:0'),\n",
      " 'train_dataset_precision': tensor(0.9725, device='cuda:0'),\n",
      " 'train_dataset_recall': tensor(0.9881, device='cuda:0'),\n",
      " 'train_per_image_accuracy': tensor(0.9732, device='cuda:0'),\n",
      " 'train_per_image_f1': tensor(0.9608, device='cuda:0'),\n",
      " 'train_per_image_iou': tensor(0.9329, device='cuda:0'),\n",
      " 'train_per_image_precision': tensor(0.9591, device='cuda:0'),\n",
      " 'train_per_image_recall': tensor(0.9697, device='cuda:0')}\n"
     ]
    },
    {
     "data": {
      "application/vnd.jupyter.widget-view+json": {
       "model_id": "",
       "version_major": 2,
       "version_minor": 0
      },
      "text/plain": [
       "Validation: 0it [00:00, ?it/s]"
      ]
     },
     "metadata": {},
     "output_type": "display_data"
    },
    {
     "name": "stdout",
     "output_type": "stream",
     "text": [
      "{'valid_dataset_accuracy': tensor(0.9681, device='cuda:0'),\n",
      " 'valid_dataset_f1': tensor(0.9765, device='cuda:0'),\n",
      " 'valid_dataset_iou': tensor(0.9541, device='cuda:0'),\n",
      " 'valid_dataset_precision': tensor(0.9667, device='cuda:0'),\n",
      " 'valid_dataset_recall': tensor(0.9865, device='cuda:0'),\n",
      " 'valid_per_image_accuracy': tensor(0.9681, device='cuda:0'),\n",
      " 'valid_per_image_f1': tensor(0.9529, device='cuda:0'),\n",
      " 'valid_per_image_iou': tensor(0.9208, device='cuda:0'),\n",
      " 'valid_per_image_precision': tensor(0.9453, device='cuda:0'),\n",
      " 'valid_per_image_recall': tensor(0.9710, device='cuda:0')}\n",
      "{'train_dataset_accuracy': tensor(0.9740, device='cuda:0'),\n",
      " 'train_dataset_f1': tensor(0.9808, device='cuda:0'),\n",
      " 'train_dataset_iou': tensor(0.9624, device='cuda:0'),\n",
      " 'train_dataset_precision': tensor(0.9733, device='cuda:0'),\n",
      " 'train_dataset_recall': tensor(0.9885, device='cuda:0'),\n",
      " 'train_per_image_accuracy': tensor(0.9740, device='cuda:0'),\n",
      " 'train_per_image_f1': tensor(0.9629, device='cuda:0'),\n",
      " 'train_per_image_iou': tensor(0.9360, device='cuda:0'),\n",
      " 'train_per_image_precision': tensor(0.9610, device='cuda:0'),\n",
      " 'train_per_image_recall': tensor(0.9714, device='cuda:0')}\n"
     ]
    },
    {
     "data": {
      "application/vnd.jupyter.widget-view+json": {
       "model_id": "",
       "version_major": 2,
       "version_minor": 0
      },
      "text/plain": [
       "Validation: 0it [00:00, ?it/s]"
      ]
     },
     "metadata": {},
     "output_type": "display_data"
    },
    {
     "name": "stdout",
     "output_type": "stream",
     "text": [
      "{'valid_dataset_accuracy': tensor(0.9671, device='cuda:0'),\n",
      " 'valid_dataset_f1': tensor(0.9759, device='cuda:0'),\n",
      " 'valid_dataset_iou': tensor(0.9529, device='cuda:0'),\n",
      " 'valid_dataset_precision': tensor(0.9638, device='cuda:0'),\n",
      " 'valid_dataset_recall': tensor(0.9883, device='cuda:0'),\n",
      " 'valid_per_image_accuracy': tensor(0.9671, device='cuda:0'),\n",
      " 'valid_per_image_f1': tensor(0.9539, device='cuda:0'),\n",
      " 'valid_per_image_iou': tensor(0.9229, device='cuda:0'),\n",
      " 'valid_per_image_precision': tensor(0.9474, device='cuda:0'),\n",
      " 'valid_per_image_recall': tensor(0.9706, device='cuda:0')}\n",
      "{'train_dataset_accuracy': tensor(0.9744, device='cuda:0'),\n",
      " 'train_dataset_f1': tensor(0.9811, device='cuda:0'),\n",
      " 'train_dataset_iou': tensor(0.9629, device='cuda:0'),\n",
      " 'train_dataset_precision': tensor(0.9740, device='cuda:0'),\n",
      " 'train_dataset_recall': tensor(0.9883, device='cuda:0'),\n",
      " 'train_per_image_accuracy': tensor(0.9744, device='cuda:0'),\n",
      " 'train_per_image_f1': tensor(0.9629, device='cuda:0'),\n",
      " 'train_per_image_iou': tensor(0.9362, device='cuda:0'),\n",
      " 'train_per_image_precision': tensor(0.9611, device='cuda:0'),\n",
      " 'train_per_image_recall': tensor(0.9712, device='cuda:0')}\n"
     ]
    },
    {
     "data": {
      "application/vnd.jupyter.widget-view+json": {
       "model_id": "",
       "version_major": 2,
       "version_minor": 0
      },
      "text/plain": [
       "Validation: 0it [00:00, ?it/s]"
      ]
     },
     "metadata": {},
     "output_type": "display_data"
    },
    {
     "name": "stdout",
     "output_type": "stream",
     "text": [
      "{'valid_dataset_accuracy': tensor(0.9508, device='cuda:0'),\n",
      " 'valid_dataset_f1': tensor(0.9638, device='cuda:0'),\n",
      " 'valid_dataset_iou': tensor(0.9302, device='cuda:0'),\n",
      " 'valid_dataset_precision': tensor(0.9532, device='cuda:0'),\n",
      " 'valid_dataset_recall': tensor(0.9746, device='cuda:0'),\n",
      " 'valid_per_image_accuracy': tensor(0.9508, device='cuda:0'),\n",
      " 'valid_per_image_f1': tensor(0.9350, device='cuda:0'),\n",
      " 'valid_per_image_iou': tensor(0.8940, device='cuda:0'),\n",
      " 'valid_per_image_precision': tensor(0.9376, device='cuda:0'),\n",
      " 'valid_per_image_recall': tensor(0.9490, device='cuda:0')}\n",
      "{'train_dataset_accuracy': tensor(0.9729, device='cuda:0'),\n",
      " 'train_dataset_f1': tensor(0.9800, device='cuda:0'),\n",
      " 'train_dataset_iou': tensor(0.9608, device='cuda:0'),\n",
      " 'train_dataset_precision': tensor(0.9724, device='cuda:0'),\n",
      " 'train_dataset_recall': tensor(0.9877, device='cuda:0'),\n",
      " 'train_per_image_accuracy': tensor(0.9729, device='cuda:0'),\n",
      " 'train_per_image_f1': tensor(0.9607, device='cuda:0'),\n",
      " 'train_per_image_iou': tensor(0.9328, device='cuda:0'),\n",
      " 'train_per_image_precision': tensor(0.9591, device='cuda:0'),\n",
      " 'train_per_image_recall': tensor(0.9701, device='cuda:0')}\n"
     ]
    },
    {
     "data": {
      "application/vnd.jupyter.widget-view+json": {
       "model_id": "",
       "version_major": 2,
       "version_minor": 0
      },
      "text/plain": [
       "Validation: 0it [00:00, ?it/s]"
      ]
     },
     "metadata": {},
     "output_type": "display_data"
    },
    {
     "name": "stdout",
     "output_type": "stream",
     "text": [
      "{'valid_dataset_accuracy': tensor(0.9673, device='cuda:0'),\n",
      " 'valid_dataset_f1': tensor(0.9758, device='cuda:0'),\n",
      " 'valid_dataset_iou': tensor(0.9527, device='cuda:0'),\n",
      " 'valid_dataset_precision': tensor(0.9712, device='cuda:0'),\n",
      " 'valid_dataset_recall': tensor(0.9803, device='cuda:0'),\n",
      " 'valid_per_image_accuracy': tensor(0.9673, device='cuda:0'),\n",
      " 'valid_per_image_f1': tensor(0.9514, device='cuda:0'),\n",
      " 'valid_per_image_iou': tensor(0.9191, device='cuda:0'),\n",
      " 'valid_per_image_precision': tensor(0.9551, device='cuda:0'),\n",
      " 'valid_per_image_recall': tensor(0.9591, device='cuda:0')}\n",
      "{'train_dataset_accuracy': tensor(0.9697, device='cuda:0'),\n",
      " 'train_dataset_f1': tensor(0.9776, device='cuda:0'),\n",
      " 'train_dataset_iou': tensor(0.9563, device='cuda:0'),\n",
      " 'train_dataset_precision': tensor(0.9702, device='cuda:0'),\n",
      " 'train_dataset_recall': tensor(0.9852, device='cuda:0'),\n",
      " 'train_per_image_accuracy': tensor(0.9697, device='cuda:0'),\n",
      " 'train_per_image_f1': tensor(0.9566, device='cuda:0'),\n",
      " 'train_per_image_iou': tensor(0.9261, device='cuda:0'),\n",
      " 'train_per_image_precision': tensor(0.9546, device='cuda:0'),\n",
      " 'train_per_image_recall': tensor(0.9672, device='cuda:0')}\n"
     ]
    },
    {
     "data": {
      "application/vnd.jupyter.widget-view+json": {
       "model_id": "",
       "version_major": 2,
       "version_minor": 0
      },
      "text/plain": [
       "Validation: 0it [00:00, ?it/s]"
      ]
     },
     "metadata": {},
     "output_type": "display_data"
    },
    {
     "name": "stdout",
     "output_type": "stream",
     "text": [
      "{'valid_dataset_accuracy': tensor(0.9678, device='cuda:0'),\n",
      " 'valid_dataset_f1': tensor(0.9761, device='cuda:0'),\n",
      " 'valid_dataset_iou': tensor(0.9533, device='cuda:0'),\n",
      " 'valid_dataset_precision': tensor(0.9734, device='cuda:0'),\n",
      " 'valid_dataset_recall': tensor(0.9788, device='cuda:0'),\n",
      " 'valid_per_image_accuracy': tensor(0.9678, device='cuda:0'),\n",
      " 'valid_per_image_f1': tensor(0.9552, device='cuda:0'),\n",
      " 'valid_per_image_iou': tensor(0.9246, device='cuda:0'),\n",
      " 'valid_per_image_precision': tensor(0.9563, device='cuda:0'),\n",
      " 'valid_per_image_recall': tensor(0.9642, device='cuda:0')}\n",
      "{'train_dataset_accuracy': tensor(0.9761, device='cuda:0'),\n",
      " 'train_dataset_f1': tensor(0.9823, device='cuda:0'),\n",
      " 'train_dataset_iou': tensor(0.9653, device='cuda:0'),\n",
      " 'train_dataset_precision': tensor(0.9751, device='cuda:0'),\n",
      " 'train_dataset_recall': tensor(0.9897, device='cuda:0'),\n",
      " 'train_per_image_accuracy': tensor(0.9761, device='cuda:0'),\n",
      " 'train_per_image_f1': tensor(0.9659, device='cuda:0'),\n",
      " 'train_per_image_iou': tensor(0.9409, device='cuda:0'),\n",
      " 'train_per_image_precision': tensor(0.9645, device='cuda:0'),\n",
      " 'train_per_image_recall': tensor(0.9736, device='cuda:0')}\n"
     ]
    },
    {
     "data": {
      "application/vnd.jupyter.widget-view+json": {
       "model_id": "",
       "version_major": 2,
       "version_minor": 0
      },
      "text/plain": [
       "Validation: 0it [00:00, ?it/s]"
      ]
     },
     "metadata": {},
     "output_type": "display_data"
    },
    {
     "name": "stdout",
     "output_type": "stream",
     "text": [
      "{'valid_dataset_accuracy': tensor(0.9735, device='cuda:0'),\n",
      " 'valid_dataset_f1': tensor(0.9805, device='cuda:0'),\n",
      " 'valid_dataset_iou': tensor(0.9617, device='cuda:0'),\n",
      " 'valid_dataset_precision': tensor(0.9724, device='cuda:0'),\n",
      " 'valid_dataset_recall': tensor(0.9887, device='cuda:0'),\n",
      " 'valid_per_image_accuracy': tensor(0.9735, device='cuda:0'),\n",
      " 'valid_per_image_f1': tensor(0.9620, device='cuda:0'),\n",
      " 'valid_per_image_iou': tensor(0.9351, device='cuda:0'),\n",
      " 'valid_per_image_precision': tensor(0.9588, device='cuda:0'),\n",
      " 'valid_per_image_recall': tensor(0.9729, device='cuda:0')}\n",
      "{'train_dataset_accuracy': tensor(0.9774, device='cuda:0'),\n",
      " 'train_dataset_f1': tensor(0.9833, device='cuda:0'),\n",
      " 'train_dataset_iou': tensor(0.9672, device='cuda:0'),\n",
      " 'train_dataset_precision': tensor(0.9761, device='cuda:0'),\n",
      " 'train_dataset_recall': tensor(0.9907, device='cuda:0'),\n",
      " 'train_per_image_accuracy': tensor(0.9774, device='cuda:0'),\n",
      " 'train_per_image_f1': tensor(0.9686, device='cuda:0'),\n",
      " 'train_per_image_iou': tensor(0.9453, device='cuda:0'),\n",
      " 'train_per_image_precision': tensor(0.9662, device='cuda:0'),\n",
      " 'train_per_image_recall': tensor(0.9763, device='cuda:0')}\n"
     ]
    },
    {
     "data": {
      "application/vnd.jupyter.widget-view+json": {
       "model_id": "",
       "version_major": 2,
       "version_minor": 0
      },
      "text/plain": [
       "Validation: 0it [00:00, ?it/s]"
      ]
     },
     "metadata": {},
     "output_type": "display_data"
    },
    {
     "name": "stdout",
     "output_type": "stream",
     "text": [
      "{'valid_dataset_accuracy': tensor(0.9708, device='cuda:0'),\n",
      " 'valid_dataset_f1': tensor(0.9784, device='cuda:0'),\n",
      " 'valid_dataset_iou': tensor(0.9577, device='cuda:0'),\n",
      " 'valid_dataset_precision': tensor(0.9733, device='cuda:0'),\n",
      " 'valid_dataset_recall': tensor(0.9835, device='cuda:0'),\n",
      " 'valid_per_image_accuracy': tensor(0.9708, device='cuda:0'),\n",
      " 'valid_per_image_f1': tensor(0.9586, device='cuda:0'),\n",
      " 'valid_per_image_iou': tensor(0.9295, device='cuda:0'),\n",
      " 'valid_per_image_precision': tensor(0.9584, device='cuda:0'),\n",
      " 'valid_per_image_recall': tensor(0.9677, device='cuda:0')}\n",
      "{'train_dataset_accuracy': tensor(0.9781, device='cuda:0'),\n",
      " 'train_dataset_f1': tensor(0.9838, device='cuda:0'),\n",
      " 'train_dataset_iou': tensor(0.9682, device='cuda:0'),\n",
      " 'train_dataset_precision': tensor(0.9767, device='cuda:0'),\n",
      " 'train_dataset_recall': tensor(0.9911, device='cuda:0'),\n",
      " 'train_per_image_accuracy': tensor(0.9781, device='cuda:0'),\n",
      " 'train_per_image_f1': tensor(0.9687, device='cuda:0'),\n",
      " 'train_per_image_iou': tensor(0.9459, device='cuda:0'),\n",
      " 'train_per_image_precision': tensor(0.9672, device='cuda:0'),\n",
      " 'train_per_image_recall': tensor(0.9762, device='cuda:0')}\n"
     ]
    },
    {
     "data": {
      "application/vnd.jupyter.widget-view+json": {
       "model_id": "",
       "version_major": 2,
       "version_minor": 0
      },
      "text/plain": [
       "Validation: 0it [00:00, ?it/s]"
      ]
     },
     "metadata": {},
     "output_type": "display_data"
    },
    {
     "name": "stdout",
     "output_type": "stream",
     "text": [
      "{'valid_dataset_accuracy': tensor(0.9739, device='cuda:0'),\n",
      " 'valid_dataset_f1': tensor(0.9807, device='cuda:0'),\n",
      " 'valid_dataset_iou': tensor(0.9622, device='cuda:0'),\n",
      " 'valid_dataset_precision': tensor(0.9728, device='cuda:0'),\n",
      " 'valid_dataset_recall': tensor(0.9888, device='cuda:0'),\n",
      " 'valid_per_image_accuracy': tensor(0.9739, device='cuda:0'),\n",
      " 'valid_per_image_f1': tensor(0.9627, device='cuda:0'),\n",
      " 'valid_per_image_iou': tensor(0.9361, device='cuda:0'),\n",
      " 'valid_per_image_precision': tensor(0.9577, device='cuda:0'),\n",
      " 'valid_per_image_recall': tensor(0.9749, device='cuda:0')}\n",
      "{'train_dataset_accuracy': tensor(0.9782, device='cuda:0'),\n",
      " 'train_dataset_f1': tensor(0.9839, device='cuda:0'),\n",
      " 'train_dataset_iou': tensor(0.9683, device='cuda:0'),\n",
      " 'train_dataset_precision': tensor(0.9769, device='cuda:0'),\n",
      " 'train_dataset_recall': tensor(0.9909, device='cuda:0'),\n",
      " 'train_per_image_accuracy': tensor(0.9782, device='cuda:0'),\n",
      " 'train_per_image_f1': tensor(0.9696, device='cuda:0'),\n",
      " 'train_per_image_iou': tensor(0.9469, device='cuda:0'),\n",
      " 'train_per_image_precision': tensor(0.9678, device='cuda:0'),\n",
      " 'train_per_image_recall': tensor(0.9767, device='cuda:0')}\n"
     ]
    },
    {
     "data": {
      "application/vnd.jupyter.widget-view+json": {
       "model_id": "",
       "version_major": 2,
       "version_minor": 0
      },
      "text/plain": [
       "Validation: 0it [00:00, ?it/s]"
      ]
     },
     "metadata": {},
     "output_type": "display_data"
    },
    {
     "name": "stdout",
     "output_type": "stream",
     "text": [
      "{'valid_dataset_accuracy': tensor(0.9671, device='cuda:0'),\n",
      " 'valid_dataset_f1': tensor(0.9757, device='cuda:0'),\n",
      " 'valid_dataset_iou': tensor(0.9526, device='cuda:0'),\n",
      " 'valid_dataset_precision': tensor(0.9668, device='cuda:0'),\n",
      " 'valid_dataset_recall': tensor(0.9848, device='cuda:0'),\n",
      " 'valid_per_image_accuracy': tensor(0.9671, device='cuda:0'),\n",
      " 'valid_per_image_f1': tensor(0.9524, device='cuda:0'),\n",
      " 'valid_per_image_iou': tensor(0.9201, device='cuda:0'),\n",
      " 'valid_per_image_precision': tensor(0.9485, device='cuda:0'),\n",
      " 'valid_per_image_recall': tensor(0.9676, device='cuda:0')}\n",
      "{'train_dataset_accuracy': tensor(0.9710, device='cuda:0'),\n",
      " 'train_dataset_f1': tensor(0.9786, device='cuda:0'),\n",
      " 'train_dataset_iou': tensor(0.9580, device='cuda:0'),\n",
      " 'train_dataset_precision': tensor(0.9717, device='cuda:0'),\n",
      " 'train_dataset_recall': tensor(0.9855, device='cuda:0'),\n",
      " 'train_per_image_accuracy': tensor(0.9710, device='cuda:0'),\n",
      " 'train_per_image_f1': tensor(0.9604, device='cuda:0'),\n",
      " 'train_per_image_iou': tensor(0.9328, device='cuda:0'),\n",
      " 'train_per_image_precision': tensor(0.9591, device='cuda:0'),\n",
      " 'train_per_image_recall': tensor(0.9705, device='cuda:0')}\n"
     ]
    },
    {
     "data": {
      "application/vnd.jupyter.widget-view+json": {
       "model_id": "",
       "version_major": 2,
       "version_minor": 0
      },
      "text/plain": [
       "Validation: 0it [00:00, ?it/s]"
      ]
     },
     "metadata": {},
     "output_type": "display_data"
    },
    {
     "name": "stdout",
     "output_type": "stream",
     "text": [
      "{'valid_dataset_accuracy': tensor(0.9690, device='cuda:0'),\n",
      " 'valid_dataset_f1': tensor(0.9772, device='cuda:0'),\n",
      " 'valid_dataset_iou': tensor(0.9553, device='cuda:0'),\n",
      " 'valid_dataset_precision': tensor(0.9696, device='cuda:0'),\n",
      " 'valid_dataset_recall': tensor(0.9848, device='cuda:0'),\n",
      " 'valid_per_image_accuracy': tensor(0.9690, device='cuda:0'),\n",
      " 'valid_per_image_f1': tensor(0.9563, device='cuda:0'),\n",
      " 'valid_per_image_iou': tensor(0.9261, device='cuda:0'),\n",
      " 'valid_per_image_precision': tensor(0.9533, device='cuda:0'),\n",
      " 'valid_per_image_recall': tensor(0.9691, device='cuda:0')}\n",
      "{'train_dataset_accuracy': tensor(0.9711, device='cuda:0'),\n",
      " 'train_dataset_f1': tensor(0.9787, device='cuda:0'),\n",
      " 'train_dataset_iou': tensor(0.9583, device='cuda:0'),\n",
      " 'train_dataset_precision': tensor(0.9719, device='cuda:0'),\n",
      " 'train_dataset_recall': tensor(0.9856, device='cuda:0'),\n",
      " 'train_per_image_accuracy': tensor(0.9711, device='cuda:0'),\n",
      " 'train_per_image_f1': tensor(0.9596, device='cuda:0'),\n",
      " 'train_per_image_iou': tensor(0.9308, device='cuda:0'),\n",
      " 'train_per_image_precision': tensor(0.9572, device='cuda:0'),\n",
      " 'train_per_image_recall': tensor(0.9697, device='cuda:0')}\n"
     ]
    },
    {
     "data": {
      "application/vnd.jupyter.widget-view+json": {
       "model_id": "",
       "version_major": 2,
       "version_minor": 0
      },
      "text/plain": [
       "Validation: 0it [00:00, ?it/s]"
      ]
     },
     "metadata": {},
     "output_type": "display_data"
    },
    {
     "name": "stdout",
     "output_type": "stream",
     "text": [
      "{'valid_dataset_accuracy': tensor(0.9736, device='cuda:0'),\n",
      " 'valid_dataset_f1': tensor(0.9806, device='cuda:0'),\n",
      " 'valid_dataset_iou': tensor(0.9619, device='cuda:0'),\n",
      " 'valid_dataset_precision': tensor(0.9711, device='cuda:0'),\n",
      " 'valid_dataset_recall': tensor(0.9903, device='cuda:0'),\n",
      " 'valid_per_image_accuracy': tensor(0.9736, device='cuda:0'),\n",
      " 'valid_per_image_f1': tensor(0.9636, device='cuda:0'),\n",
      " 'valid_per_image_iou': tensor(0.9376, device='cuda:0'),\n",
      " 'valid_per_image_precision': tensor(0.9580, device='cuda:0'),\n",
      " 'valid_per_image_recall': tensor(0.9767, device='cuda:0')}\n",
      "{'train_dataset_accuracy': tensor(0.9778, device='cuda:0'),\n",
      " 'train_dataset_f1': tensor(0.9836, device='cuda:0'),\n",
      " 'train_dataset_iou': tensor(0.9678, device='cuda:0'),\n",
      " 'train_dataset_precision': tensor(0.9768, device='cuda:0'),\n",
      " 'train_dataset_recall': tensor(0.9906, device='cuda:0'),\n",
      " 'train_per_image_accuracy': tensor(0.9778, device='cuda:0'),\n",
      " 'train_per_image_f1': tensor(0.9688, device='cuda:0'),\n",
      " 'train_per_image_iou': tensor(0.9454, device='cuda:0'),\n",
      " 'train_per_image_precision': tensor(0.9673, device='cuda:0'),\n",
      " 'train_per_image_recall': tensor(0.9756, device='cuda:0')}\n"
     ]
    },
    {
     "data": {
      "application/vnd.jupyter.widget-view+json": {
       "model_id": "",
       "version_major": 2,
       "version_minor": 0
      },
      "text/plain": [
       "Validation: 0it [00:00, ?it/s]"
      ]
     },
     "metadata": {},
     "output_type": "display_data"
    },
    {
     "name": "stdout",
     "output_type": "stream",
     "text": [
      "{'valid_dataset_accuracy': tensor(0.9757, device='cuda:0'),\n",
      " 'valid_dataset_f1': tensor(0.9821, device='cuda:0'),\n",
      " 'valid_dataset_iou': tensor(0.9648, device='cuda:0'),\n",
      " 'valid_dataset_precision': tensor(0.9747, device='cuda:0'),\n",
      " 'valid_dataset_recall': tensor(0.9896, device='cuda:0'),\n",
      " 'valid_per_image_accuracy': tensor(0.9757, device='cuda:0'),\n",
      " 'valid_per_image_f1': tensor(0.9656, device='cuda:0'),\n",
      " 'valid_per_image_iou': tensor(0.9407, device='cuda:0'),\n",
      " 'valid_per_image_precision': tensor(0.9625, device='cuda:0'),\n",
      " 'valid_per_image_recall': tensor(0.9755, device='cuda:0')}\n",
      "{'train_dataset_accuracy': tensor(0.9800, device='cuda:0'),\n",
      " 'train_dataset_f1': tensor(0.9853, device='cuda:0'),\n",
      " 'train_dataset_iou': tensor(0.9710, device='cuda:0'),\n",
      " 'train_dataset_precision': tensor(0.9786, device='cuda:0'),\n",
      " 'train_dataset_recall': tensor(0.9920, device='cuda:0'),\n",
      " 'train_per_image_accuracy': tensor(0.9800, device='cuda:0'),\n",
      " 'train_per_image_f1': tensor(0.9726, device='cuda:0'),\n",
      " 'train_per_image_iou': tensor(0.9518, device='cuda:0'),\n",
      " 'train_per_image_precision': tensor(0.9704, device='cuda:0'),\n",
      " 'train_per_image_recall': tensor(0.9793, device='cuda:0')}\n"
     ]
    },
    {
     "data": {
      "application/vnd.jupyter.widget-view+json": {
       "model_id": "",
       "version_major": 2,
       "version_minor": 0
      },
      "text/plain": [
       "Validation: 0it [00:00, ?it/s]"
      ]
     },
     "metadata": {},
     "output_type": "display_data"
    },
    {
     "name": "stdout",
     "output_type": "stream",
     "text": [
      "{'valid_dataset_accuracy': tensor(0.9748, device='cuda:0'),\n",
      " 'valid_dataset_f1': tensor(0.9813, device='cuda:0'),\n",
      " 'valid_dataset_iou': tensor(0.9634, device='cuda:0'),\n",
      " 'valid_dataset_precision': tensor(0.9759, device='cuda:0'),\n",
      " 'valid_dataset_recall': tensor(0.9868, device='cuda:0'),\n",
      " 'valid_per_image_accuracy': tensor(0.9748, device='cuda:0'),\n",
      " 'valid_per_image_f1': tensor(0.9643, device='cuda:0'),\n",
      " 'valid_per_image_iou': tensor(0.9390, device='cuda:0'),\n",
      " 'valid_per_image_precision': tensor(0.9663, device='cuda:0'),\n",
      " 'valid_per_image_recall': tensor(0.9702, device='cuda:0')}\n",
      "{'train_dataset_accuracy': tensor(0.9803, device='cuda:0'),\n",
      " 'train_dataset_f1': tensor(0.9854, device='cuda:0'),\n",
      " 'train_dataset_iou': tensor(0.9713, device='cuda:0'),\n",
      " 'train_dataset_precision': tensor(0.9788, device='cuda:0'),\n",
      " 'train_dataset_recall': tensor(0.9921, device='cuda:0'),\n",
      " 'train_per_image_accuracy': tensor(0.9803, device='cuda:0'),\n",
      " 'train_per_image_f1': tensor(0.9728, device='cuda:0'),\n",
      " 'train_per_image_iou': tensor(0.9522, device='cuda:0'),\n",
      " 'train_per_image_precision': tensor(0.9706, device='cuda:0'),\n",
      " 'train_per_image_recall': tensor(0.9796, device='cuda:0')}\n"
     ]
    },
    {
     "data": {
      "application/vnd.jupyter.widget-view+json": {
       "model_id": "",
       "version_major": 2,
       "version_minor": 0
      },
      "text/plain": [
       "Validation: 0it [00:00, ?it/s]"
      ]
     },
     "metadata": {},
     "output_type": "display_data"
    },
    {
     "name": "stdout",
     "output_type": "stream",
     "text": [
      "{'valid_dataset_accuracy': tensor(0.9760, device='cuda:0'),\n",
      " 'valid_dataset_f1': tensor(0.9823, device='cuda:0'),\n",
      " 'valid_dataset_iou': tensor(0.9652, device='cuda:0'),\n",
      " 'valid_dataset_precision': tensor(0.9758, device='cuda:0'),\n",
      " 'valid_dataset_recall': tensor(0.9888, device='cuda:0'),\n",
      " 'valid_per_image_accuracy': tensor(0.9760, device='cuda:0'),\n",
      " 'valid_per_image_f1': tensor(0.9663, device='cuda:0'),\n",
      " 'valid_per_image_iou': tensor(0.9418, device='cuda:0'),\n",
      " 'valid_per_image_precision': tensor(0.9639, device='cuda:0'),\n",
      " 'valid_per_image_recall': tensor(0.9753, device='cuda:0')}\n",
      "{'train_dataset_accuracy': tensor(0.9804, device='cuda:0'),\n",
      " 'train_dataset_f1': tensor(0.9855, device='cuda:0'),\n",
      " 'train_dataset_iou': tensor(0.9714, device='cuda:0'),\n",
      " 'train_dataset_precision': tensor(0.9789, device='cuda:0'),\n",
      " 'train_dataset_recall': tensor(0.9922, device='cuda:0'),\n",
      " 'train_per_image_accuracy': tensor(0.9804, device='cuda:0'),\n",
      " 'train_per_image_f1': tensor(0.9728, device='cuda:0'),\n",
      " 'train_per_image_iou': tensor(0.9522, device='cuda:0'),\n",
      " 'train_per_image_precision': tensor(0.9709, device='cuda:0'),\n",
      " 'train_per_image_recall': tensor(0.9794, device='cuda:0')}\n"
     ]
    },
    {
     "data": {
      "application/vnd.jupyter.widget-view+json": {
       "model_id": "",
       "version_major": 2,
       "version_minor": 0
      },
      "text/plain": [
       "Validation: 0it [00:00, ?it/s]"
      ]
     },
     "metadata": {},
     "output_type": "display_data"
    },
    {
     "name": "stdout",
     "output_type": "stream",
     "text": [
      "{'valid_dataset_accuracy': tensor(0.9759, device='cuda:0'),\n",
      " 'valid_dataset_f1': tensor(0.9822, device='cuda:0'),\n",
      " 'valid_dataset_iou': tensor(0.9650, device='cuda:0'),\n",
      " 'valid_dataset_precision': tensor(0.9743, device='cuda:0'),\n",
      " 'valid_dataset_recall': tensor(0.9902, device='cuda:0'),\n",
      " 'valid_per_image_accuracy': tensor(0.9759, device='cuda:0'),\n",
      " 'valid_per_image_f1': tensor(0.9666, device='cuda:0'),\n",
      " 'valid_per_image_iou': tensor(0.9423, device='cuda:0'),\n",
      " 'valid_per_image_precision': tensor(0.9632, device='cuda:0'),\n",
      " 'valid_per_image_recall': tensor(0.9768, device='cuda:0')}\n",
      "{'train_dataset_accuracy': tensor(0.9807, device='cuda:0'),\n",
      " 'train_dataset_f1': tensor(0.9858, device='cuda:0'),\n",
      " 'train_dataset_iou': tensor(0.9719, device='cuda:0'),\n",
      " 'train_dataset_precision': tensor(0.9791, device='cuda:0'),\n",
      " 'train_dataset_recall': tensor(0.9924, device='cuda:0'),\n",
      " 'train_per_image_accuracy': tensor(0.9807, device='cuda:0'),\n",
      " 'train_per_image_f1': tensor(0.9736, device='cuda:0'),\n",
      " 'train_per_image_iou': tensor(0.9535, device='cuda:0'),\n",
      " 'train_per_image_precision': tensor(0.9715, device='cuda:0'),\n",
      " 'train_per_image_recall': tensor(0.9803, device='cuda:0')}\n"
     ]
    },
    {
     "data": {
      "application/vnd.jupyter.widget-view+json": {
       "model_id": "",
       "version_major": 2,
       "version_minor": 0
      },
      "text/plain": [
       "Validation: 0it [00:00, ?it/s]"
      ]
     },
     "metadata": {},
     "output_type": "display_data"
    },
    {
     "name": "stdout",
     "output_type": "stream",
     "text": [
      "{'valid_dataset_accuracy': tensor(0.9677, device='cuda:0'),\n",
      " 'valid_dataset_f1': tensor(0.9761, device='cuda:0'),\n",
      " 'valid_dataset_iou': tensor(0.9533, device='cuda:0'),\n",
      " 'valid_dataset_precision': tensor(0.9718, device='cuda:0'),\n",
      " 'valid_dataset_recall': tensor(0.9804, device='cuda:0'),\n",
      " 'valid_per_image_accuracy': tensor(0.9677, device='cuda:0'),\n",
      " 'valid_per_image_f1': tensor(0.9541, device='cuda:0'),\n",
      " 'valid_per_image_iou': tensor(0.9230, device='cuda:0'),\n",
      " 'valid_per_image_precision': tensor(0.9555, device='cuda:0'),\n",
      " 'valid_per_image_recall': tensor(0.9632, device='cuda:0')}\n",
      "{'train_dataset_accuracy': tensor(0.9765, device='cuda:0'),\n",
      " 'train_dataset_f1': tensor(0.9827, device='cuda:0'),\n",
      " 'train_dataset_iou': tensor(0.9659, device='cuda:0'),\n",
      " 'train_dataset_precision': tensor(0.9762, device='cuda:0'),\n",
      " 'train_dataset_recall': tensor(0.9893, device='cuda:0'),\n",
      " 'train_per_image_accuracy': tensor(0.9765, device='cuda:0'),\n",
      " 'train_per_image_f1': tensor(0.9676, device='cuda:0'),\n",
      " 'train_per_image_iou': tensor(0.9439, device='cuda:0'),\n",
      " 'train_per_image_precision': tensor(0.9656, device='cuda:0'),\n",
      " 'train_per_image_recall': tensor(0.9759, device='cuda:0')}\n"
     ]
    },
    {
     "data": {
      "application/vnd.jupyter.widget-view+json": {
       "model_id": "",
       "version_major": 2,
       "version_minor": 0
      },
      "text/plain": [
       "Validation: 0it [00:00, ?it/s]"
      ]
     },
     "metadata": {},
     "output_type": "display_data"
    },
    {
     "name": "stdout",
     "output_type": "stream",
     "text": [
      "{'valid_dataset_accuracy': tensor(0.9649, device='cuda:0'),\n",
      " 'valid_dataset_f1': tensor(0.9740, device='cuda:0'),\n",
      " 'valid_dataset_iou': tensor(0.9493, device='cuda:0'),\n",
      " 'valid_dataset_precision': tensor(0.9717, device='cuda:0'),\n",
      " 'valid_dataset_recall': tensor(0.9763, device='cuda:0'),\n",
      " 'valid_per_image_accuracy': tensor(0.9649, device='cuda:0'),\n",
      " 'valid_per_image_f1': tensor(0.9538, device='cuda:0'),\n",
      " 'valid_per_image_iou': tensor(0.9240, device='cuda:0'),\n",
      " 'valid_per_image_precision': tensor(0.9555, device='cuda:0'),\n",
      " 'valid_per_image_recall': tensor(0.9644, device='cuda:0')}\n",
      "{'train_dataset_accuracy': tensor(0.9780, device='cuda:0'),\n",
      " 'train_dataset_f1': tensor(0.9837, device='cuda:0'),\n",
      " 'train_dataset_iou': tensor(0.9680, device='cuda:0'),\n",
      " 'train_dataset_precision': tensor(0.9771, device='cuda:0'),\n",
      " 'train_dataset_recall': tensor(0.9904, device='cuda:0'),\n",
      " 'train_per_image_accuracy': tensor(0.9780, device='cuda:0'),\n",
      " 'train_per_image_f1': tensor(0.9698, device='cuda:0'),\n",
      " 'train_per_image_iou': tensor(0.9472, device='cuda:0'),\n",
      " 'train_per_image_precision': tensor(0.9682, device='cuda:0'),\n",
      " 'train_per_image_recall': tensor(0.9772, device='cuda:0')}\n"
     ]
    },
    {
     "data": {
      "application/vnd.jupyter.widget-view+json": {
       "model_id": "",
       "version_major": 2,
       "version_minor": 0
      },
      "text/plain": [
       "Validation: 0it [00:00, ?it/s]"
      ]
     },
     "metadata": {},
     "output_type": "display_data"
    },
    {
     "name": "stdout",
     "output_type": "stream",
     "text": [
      "{'valid_dataset_accuracy': tensor(0.9754, device='cuda:0'),\n",
      " 'valid_dataset_f1': tensor(0.9819, device='cuda:0'),\n",
      " 'valid_dataset_iou': tensor(0.9644, device='cuda:0'),\n",
      " 'valid_dataset_precision': tensor(0.9723, device='cuda:0'),\n",
      " 'valid_dataset_recall': tensor(0.9917, device='cuda:0'),\n",
      " 'valid_per_image_accuracy': tensor(0.9754, device='cuda:0'),\n",
      " 'valid_per_image_f1': tensor(0.9657, device='cuda:0'),\n",
      " 'valid_per_image_iou': tensor(0.9412, device='cuda:0'),\n",
      " 'valid_per_image_precision': tensor(0.9578, device='cuda:0'),\n",
      " 'valid_per_image_recall': tensor(0.9809, device='cuda:0')}\n",
      "{'train_dataset_accuracy': tensor(0.9803, device='cuda:0'),\n",
      " 'train_dataset_f1': tensor(0.9854, device='cuda:0'),\n",
      " 'train_dataset_iou': tensor(0.9713, device='cuda:0'),\n",
      " 'train_dataset_precision': tensor(0.9791, device='cuda:0'),\n",
      " 'train_dataset_recall': tensor(0.9919, device='cuda:0'),\n",
      " 'train_per_image_accuracy': tensor(0.9803, device='cuda:0'),\n",
      " 'train_per_image_f1': tensor(0.9728, device='cuda:0'),\n",
      " 'train_per_image_iou': tensor(0.9521, device='cuda:0'),\n",
      " 'train_per_image_precision': tensor(0.9713, device='cuda:0'),\n",
      " 'train_per_image_recall': tensor(0.9790, device='cuda:0')}\n"
     ]
    },
    {
     "data": {
      "application/vnd.jupyter.widget-view+json": {
       "model_id": "",
       "version_major": 2,
       "version_minor": 0
      },
      "text/plain": [
       "Validation: 0it [00:00, ?it/s]"
      ]
     },
     "metadata": {},
     "output_type": "display_data"
    },
    {
     "name": "stdout",
     "output_type": "stream",
     "text": [
      "{'valid_dataset_accuracy': tensor(0.9716, device='cuda:0'),\n",
      " 'valid_dataset_f1': tensor(0.9791, device='cuda:0'),\n",
      " 'valid_dataset_iou': tensor(0.9590, device='cuda:0'),\n",
      " 'valid_dataset_precision': tensor(0.9715, device='cuda:0'),\n",
      " 'valid_dataset_recall': tensor(0.9867, device='cuda:0'),\n",
      " 'valid_per_image_accuracy': tensor(0.9716, device='cuda:0'),\n",
      " 'valid_per_image_f1': tensor(0.9589, device='cuda:0'),\n",
      " 'valid_per_image_iou': tensor(0.9304, device='cuda:0'),\n",
      " 'valid_per_image_precision': tensor(0.9559, device='cuda:0'),\n",
      " 'valid_per_image_recall': tensor(0.9706, device='cuda:0')}\n",
      "{'train_dataset_accuracy': tensor(0.9744, device='cuda:0'),\n",
      " 'train_dataset_f1': tensor(0.9811, device='cuda:0'),\n",
      " 'train_dataset_iou': tensor(0.9629, device='cuda:0'),\n",
      " 'train_dataset_precision': tensor(0.9749, device='cuda:0'),\n",
      " 'train_dataset_recall': tensor(0.9873, device='cuda:0'),\n",
      " 'train_per_image_accuracy': tensor(0.9744, device='cuda:0'),\n",
      " 'train_per_image_f1': tensor(0.9651, device='cuda:0'),\n",
      " 'train_per_image_iou': tensor(0.9396, device='cuda:0'),\n",
      " 'train_per_image_precision': tensor(0.9632, device='cuda:0'),\n",
      " 'train_per_image_recall': tensor(0.9736, device='cuda:0')}\n"
     ]
    },
    {
     "data": {
      "application/vnd.jupyter.widget-view+json": {
       "model_id": "",
       "version_major": 2,
       "version_minor": 0
      },
      "text/plain": [
       "Validation: 0it [00:00, ?it/s]"
      ]
     },
     "metadata": {},
     "output_type": "display_data"
    },
    {
     "name": "stdout",
     "output_type": "stream",
     "text": [
      "{'valid_dataset_accuracy': tensor(0.9751, device='cuda:0'),\n",
      " 'valid_dataset_f1': tensor(0.9817, device='cuda:0'),\n",
      " 'valid_dataset_iou': tensor(0.9640, device='cuda:0'),\n",
      " 'valid_dataset_precision': tensor(0.9736, device='cuda:0'),\n",
      " 'valid_dataset_recall': tensor(0.9899, device='cuda:0'),\n",
      " 'valid_per_image_accuracy': tensor(0.9751, device='cuda:0'),\n",
      " 'valid_per_image_f1': tensor(0.9644, device='cuda:0'),\n",
      " 'valid_per_image_iou': tensor(0.9390, device='cuda:0'),\n",
      " 'valid_per_image_precision': tensor(0.9566, device='cuda:0'),\n",
      " 'valid_per_image_recall': tensor(0.9797, device='cuda:0')}\n",
      "{'train_dataset_accuracy': tensor(0.9791, device='cuda:0'),\n",
      " 'train_dataset_f1': tensor(0.9846, device='cuda:0'),\n",
      " 'train_dataset_iou': tensor(0.9697, device='cuda:0'),\n",
      " 'train_dataset_precision': tensor(0.9784, device='cuda:0'),\n",
      " 'train_dataset_recall': tensor(0.9908, device='cuda:0'),\n",
      " 'train_per_image_accuracy': tensor(0.9791, device='cuda:0'),\n",
      " 'train_per_image_f1': tensor(0.9714, device='cuda:0'),\n",
      " 'train_per_image_iou': tensor(0.9497, device='cuda:0'),\n",
      " 'train_per_image_precision': tensor(0.9700, device='cuda:0'),\n",
      " 'train_per_image_recall': tensor(0.9777, device='cuda:0')}\n"
     ]
    },
    {
     "data": {
      "application/vnd.jupyter.widget-view+json": {
       "model_id": "",
       "version_major": 2,
       "version_minor": 0
      },
      "text/plain": [
       "Validation: 0it [00:00, ?it/s]"
      ]
     },
     "metadata": {},
     "output_type": "display_data"
    },
    {
     "name": "stdout",
     "output_type": "stream",
     "text": [
      "{'valid_dataset_accuracy': tensor(0.9775, device='cuda:0'),\n",
      " 'valid_dataset_f1': tensor(0.9834, device='cuda:0'),\n",
      " 'valid_dataset_iou': tensor(0.9673, device='cuda:0'),\n",
      " 'valid_dataset_precision': tensor(0.9765, device='cuda:0'),\n",
      " 'valid_dataset_recall': tensor(0.9903, device='cuda:0'),\n",
      " 'valid_per_image_accuracy': tensor(0.9775, device='cuda:0'),\n",
      " 'valid_per_image_f1': tensor(0.9679, device='cuda:0'),\n",
      " 'valid_per_image_iou': tensor(0.9447, device='cuda:0'),\n",
      " 'valid_per_image_precision': tensor(0.9635, device='cuda:0'),\n",
      " 'valid_per_image_recall': tensor(0.9787, device='cuda:0')}\n",
      "{'train_dataset_accuracy': tensor(0.9818, device='cuda:0'),\n",
      " 'train_dataset_f1': tensor(0.9865, device='cuda:0'),\n",
      " 'train_dataset_iou': tensor(0.9734, device='cuda:0'),\n",
      " 'train_dataset_precision': tensor(0.9803, device='cuda:0'),\n",
      " 'train_dataset_recall': tensor(0.9929, device='cuda:0'),\n",
      " 'train_per_image_accuracy': tensor(0.9818, device='cuda:0'),\n",
      " 'train_per_image_f1': tensor(0.9754, device='cuda:0'),\n",
      " 'train_per_image_iou': tensor(0.9564, device='cuda:0'),\n",
      " 'train_per_image_precision': tensor(0.9731, device='cuda:0'),\n",
      " 'train_per_image_recall': tensor(0.9816, device='cuda:0')}\n"
     ]
    },
    {
     "data": {
      "application/vnd.jupyter.widget-view+json": {
       "model_id": "",
       "version_major": 2,
       "version_minor": 0
      },
      "text/plain": [
       "Validation: 0it [00:00, ?it/s]"
      ]
     },
     "metadata": {},
     "output_type": "display_data"
    },
    {
     "name": "stdout",
     "output_type": "stream",
     "text": [
      "{'valid_dataset_accuracy': tensor(0.9764, device='cuda:0'),\n",
      " 'valid_dataset_f1': tensor(0.9825, device='cuda:0'),\n",
      " 'valid_dataset_iou': tensor(0.9657, device='cuda:0'),\n",
      " 'valid_dataset_precision': tensor(0.9766, device='cuda:0'),\n",
      " 'valid_dataset_recall': tensor(0.9885, device='cuda:0'),\n",
      " 'valid_per_image_accuracy': tensor(0.9764, device='cuda:0'),\n",
      " 'valid_per_image_f1': tensor(0.9660, device='cuda:0'),\n",
      " 'valid_per_image_iou': tensor(0.9413, device='cuda:0'),\n",
      " 'valid_per_image_precision': tensor(0.9663, device='cuda:0'),\n",
      " 'valid_per_image_recall': tensor(0.9725, device='cuda:0')}\n",
      "{'train_dataset_accuracy': tensor(0.9823, device='cuda:0'),\n",
      " 'train_dataset_f1': tensor(0.9870, device='cuda:0'),\n",
      " 'train_dataset_iou': tensor(0.9742, device='cuda:0'),\n",
      " 'train_dataset_precision': tensor(0.9808, device='cuda:0'),\n",
      " 'train_dataset_recall': tensor(0.9932, device='cuda:0'),\n",
      " 'train_per_image_accuracy': tensor(0.9823, device='cuda:0'),\n",
      " 'train_per_image_f1': tensor(0.9762, device='cuda:0'),\n",
      " 'train_per_image_iou': tensor(0.9582, device='cuda:0'),\n",
      " 'train_per_image_precision': tensor(0.9746, device='cuda:0'),\n",
      " 'train_per_image_recall': tensor(0.9820, device='cuda:0')}\n"
     ]
    },
    {
     "data": {
      "application/vnd.jupyter.widget-view+json": {
       "model_id": "",
       "version_major": 2,
       "version_minor": 0
      },
      "text/plain": [
       "Validation: 0it [00:00, ?it/s]"
      ]
     },
     "metadata": {},
     "output_type": "display_data"
    },
    {
     "name": "stdout",
     "output_type": "stream",
     "text": [
      "{'valid_dataset_accuracy': tensor(0.9774, device='cuda:0'),\n",
      " 'valid_dataset_f1': tensor(0.9833, device='cuda:0'),\n",
      " 'valid_dataset_iou': tensor(0.9672, device='cuda:0'),\n",
      " 'valid_dataset_precision': tensor(0.9745, device='cuda:0'),\n",
      " 'valid_dataset_recall': tensor(0.9923, device='cuda:0'),\n",
      " 'valid_per_image_accuracy': tensor(0.9774, device='cuda:0'),\n",
      " 'valid_per_image_f1': tensor(0.9685, device='cuda:0'),\n",
      " 'valid_per_image_iou': tensor(0.9458, device='cuda:0'),\n",
      " 'valid_per_image_precision': tensor(0.9622, device='cuda:0'),\n",
      " 'valid_per_image_recall': tensor(0.9814, device='cuda:0')}\n",
      "{'train_dataset_accuracy': tensor(0.9808, device='cuda:0'),\n",
      " 'train_dataset_f1': tensor(0.9858, device='cuda:0'),\n",
      " 'train_dataset_iou': tensor(0.9720, device='cuda:0'),\n",
      " 'train_dataset_precision': tensor(0.9793, device='cuda:0'),\n",
      " 'train_dataset_recall': tensor(0.9924, device='cuda:0'),\n",
      " 'train_per_image_accuracy': tensor(0.9808, device='cuda:0'),\n",
      " 'train_per_image_f1': tensor(0.9738, device='cuda:0'),\n",
      " 'train_per_image_iou': tensor(0.9539, device='cuda:0'),\n",
      " 'train_per_image_precision': tensor(0.9718, device='cuda:0'),\n",
      " 'train_per_image_recall': tensor(0.9805, device='cuda:0')}\n"
     ]
    },
    {
     "data": {
      "application/vnd.jupyter.widget-view+json": {
       "model_id": "",
       "version_major": 2,
       "version_minor": 0
      },
      "text/plain": [
       "Validation: 0it [00:00, ?it/s]"
      ]
     },
     "metadata": {},
     "output_type": "display_data"
    },
    {
     "name": "stdout",
     "output_type": "stream",
     "text": [
      "{'valid_dataset_accuracy': tensor(0.9767, device='cuda:0'),\n",
      " 'valid_dataset_f1': tensor(0.9828, device='cuda:0'),\n",
      " 'valid_dataset_iou': tensor(0.9662, device='cuda:0'),\n",
      " 'valid_dataset_precision': tensor(0.9751, device='cuda:0'),\n",
      " 'valid_dataset_recall': tensor(0.9906, device='cuda:0'),\n",
      " 'valid_per_image_accuracy': tensor(0.9767, device='cuda:0'),\n",
      " 'valid_per_image_f1': tensor(0.9678, device='cuda:0'),\n",
      " 'valid_per_image_iou': tensor(0.9448, device='cuda:0'),\n",
      " 'valid_per_image_precision': tensor(0.9632, device='cuda:0'),\n",
      " 'valid_per_image_recall': tensor(0.9796, device='cuda:0')}\n",
      "{'train_dataset_accuracy': tensor(0.9817, device='cuda:0'),\n",
      " 'train_dataset_f1': tensor(0.9865, device='cuda:0'),\n",
      " 'train_dataset_iou': tensor(0.9734, device='cuda:0'),\n",
      " 'train_dataset_precision': tensor(0.9802, device='cuda:0'),\n",
      " 'train_dataset_recall': tensor(0.9928, device='cuda:0'),\n",
      " 'train_per_image_accuracy': tensor(0.9817, device='cuda:0'),\n",
      " 'train_per_image_f1': tensor(0.9753, device='cuda:0'),\n",
      " 'train_per_image_iou': tensor(0.9566, device='cuda:0'),\n",
      " 'train_per_image_precision': tensor(0.9735, device='cuda:0'),\n",
      " 'train_per_image_recall': tensor(0.9816, device='cuda:0')}\n"
     ]
    },
    {
     "data": {
      "application/vnd.jupyter.widget-view+json": {
       "model_id": "",
       "version_major": 2,
       "version_minor": 0
      },
      "text/plain": [
       "Validation: 0it [00:00, ?it/s]"
      ]
     },
     "metadata": {},
     "output_type": "display_data"
    },
    {
     "name": "stdout",
     "output_type": "stream",
     "text": [
      "{'valid_dataset_accuracy': tensor(0.9773, device='cuda:0'),\n",
      " 'valid_dataset_f1': tensor(0.9832, device='cuda:0'),\n",
      " 'valid_dataset_iou': tensor(0.9669, device='cuda:0'),\n",
      " 'valid_dataset_precision': tensor(0.9779, device='cuda:0'),\n",
      " 'valid_dataset_recall': tensor(0.9885, device='cuda:0'),\n",
      " 'valid_per_image_accuracy': tensor(0.9773, device='cuda:0'),\n",
      " 'valid_per_image_f1': tensor(0.9674, device='cuda:0'),\n",
      " 'valid_per_image_iou': tensor(0.9441, device='cuda:0'),\n",
      " 'valid_per_image_precision': tensor(0.9678, device='cuda:0'),\n",
      " 'valid_per_image_recall': tensor(0.9742, device='cuda:0')}\n",
      "{'train_dataset_accuracy': tensor(0.9820, device='cuda:0'),\n",
      " 'train_dataset_f1': tensor(0.9867, device='cuda:0'),\n",
      " 'train_dataset_iou': tensor(0.9737, device='cuda:0'),\n",
      " 'train_dataset_precision': tensor(0.9805, device='cuda:0'),\n",
      " 'train_dataset_recall': tensor(0.9929, device='cuda:0'),\n",
      " 'train_per_image_accuracy': tensor(0.9820, device='cuda:0'),\n",
      " 'train_per_image_f1': tensor(0.9754, device='cuda:0'),\n",
      " 'train_per_image_iou': tensor(0.9567, device='cuda:0'),\n",
      " 'train_per_image_precision': tensor(0.9733, device='cuda:0'),\n",
      " 'train_per_image_recall': tensor(0.9819, device='cuda:0')}\n"
     ]
    },
    {
     "data": {
      "application/vnd.jupyter.widget-view+json": {
       "model_id": "",
       "version_major": 2,
       "version_minor": 0
      },
      "text/plain": [
       "Validation: 0it [00:00, ?it/s]"
      ]
     },
     "metadata": {},
     "output_type": "display_data"
    },
    {
     "name": "stdout",
     "output_type": "stream",
     "text": [
      "{'valid_dataset_accuracy': tensor(0.9624, device='cuda:0'),\n",
      " 'valid_dataset_f1': tensor(0.9721, device='cuda:0'),\n",
      " 'valid_dataset_iou': tensor(0.9457, device='cuda:0'),\n",
      " 'valid_dataset_precision': tensor(0.9698, device='cuda:0'),\n",
      " 'valid_dataset_recall': tensor(0.9744, device='cuda:0'),\n",
      " 'valid_per_image_accuracy': tensor(0.9624, device='cuda:0'),\n",
      " 'valid_per_image_f1': tensor(0.9484, device='cuda:0'),\n",
      " 'valid_per_image_iou': tensor(0.9152, device='cuda:0'),\n",
      " 'valid_per_image_precision': tensor(0.9517, device='cuda:0'),\n",
      " 'valid_per_image_recall': tensor(0.9585, device='cuda:0')}\n",
      "{'train_dataset_accuracy': tensor(0.9817, device='cuda:0'),\n",
      " 'train_dataset_f1': tensor(0.9865, device='cuda:0'),\n",
      " 'train_dataset_iou': tensor(0.9733, device='cuda:0'),\n",
      " 'train_dataset_precision': tensor(0.9804, device='cuda:0'),\n",
      " 'train_dataset_recall': tensor(0.9926, device='cuda:0'),\n",
      " 'train_per_image_accuracy': tensor(0.9817, device='cuda:0'),\n",
      " 'train_per_image_f1': tensor(0.9753, device='cuda:0'),\n",
      " 'train_per_image_iou': tensor(0.9565, device='cuda:0'),\n",
      " 'train_per_image_precision': tensor(0.9731, device='cuda:0'),\n",
      " 'train_per_image_recall': tensor(0.9819, device='cuda:0')}\n"
     ]
    },
    {
     "data": {
      "application/vnd.jupyter.widget-view+json": {
       "model_id": "",
       "version_major": 2,
       "version_minor": 0
      },
      "text/plain": [
       "Validation: 0it [00:00, ?it/s]"
      ]
     },
     "metadata": {},
     "output_type": "display_data"
    },
    {
     "name": "stdout",
     "output_type": "stream",
     "text": [
      "{'valid_dataset_accuracy': tensor(0.9770, device='cuda:0'),\n",
      " 'valid_dataset_f1': tensor(0.9831, device='cuda:0'),\n",
      " 'valid_dataset_iou': tensor(0.9667, device='cuda:0'),\n",
      " 'valid_dataset_precision': tensor(0.9752, device='cuda:0'),\n",
      " 'valid_dataset_recall': tensor(0.9911, device='cuda:0'),\n",
      " 'valid_per_image_accuracy': tensor(0.9770, device='cuda:0'),\n",
      " 'valid_per_image_f1': tensor(0.9679, device='cuda:0'),\n",
      " 'valid_per_image_iou': tensor(0.9447, device='cuda:0'),\n",
      " 'valid_per_image_precision': tensor(0.9625, device='cuda:0'),\n",
      " 'valid_per_image_recall': tensor(0.9801, device='cuda:0')}\n",
      "{'train_dataset_accuracy': tensor(0.9773, device='cuda:0'),\n",
      " 'train_dataset_f1': tensor(0.9832, device='cuda:0'),\n",
      " 'train_dataset_iou': tensor(0.9670, device='cuda:0'),\n",
      " 'train_dataset_precision': tensor(0.9767, device='cuda:0'),\n",
      " 'train_dataset_recall': tensor(0.9898, device='cuda:0'),\n",
      " 'train_per_image_accuracy': tensor(0.9773, device='cuda:0'),\n",
      " 'train_per_image_f1': tensor(0.9685, device='cuda:0'),\n",
      " 'train_per_image_iou': tensor(0.9454, device='cuda:0'),\n",
      " 'train_per_image_precision': tensor(0.9668, device='cuda:0'),\n",
      " 'train_per_image_recall': tensor(0.9762, device='cuda:0')}\n"
     ]
    },
    {
     "data": {
      "application/vnd.jupyter.widget-view+json": {
       "model_id": "",
       "version_major": 2,
       "version_minor": 0
      },
      "text/plain": [
       "Validation: 0it [00:00, ?it/s]"
      ]
     },
     "metadata": {},
     "output_type": "display_data"
    },
    {
     "name": "stdout",
     "output_type": "stream",
     "text": [
      "{'valid_dataset_accuracy': tensor(0.9791, device='cuda:0'),\n",
      " 'valid_dataset_f1': tensor(0.9846, device='cuda:0'),\n",
      " 'valid_dataset_iou': tensor(0.9696, device='cuda:0'),\n",
      " 'valid_dataset_precision': tensor(0.9777, device='cuda:0'),\n",
      " 'valid_dataset_recall': tensor(0.9915, device='cuda:0'),\n",
      " 'valid_per_image_accuracy': tensor(0.9791, device='cuda:0'),\n",
      " 'valid_per_image_f1': tensor(0.9712, device='cuda:0'),\n",
      " 'valid_per_image_iou': tensor(0.9498, device='cuda:0'),\n",
      " 'valid_per_image_precision': tensor(0.9662, device='cuda:0'),\n",
      " 'valid_per_image_recall': tensor(0.9817, device='cuda:0')}\n",
      "{'train_dataset_accuracy': tensor(0.9822, device='cuda:0'),\n",
      " 'train_dataset_f1': tensor(0.9868, device='cuda:0'),\n",
      " 'train_dataset_iou': tensor(0.9740, device='cuda:0'),\n",
      " 'train_dataset_precision': tensor(0.9808, device='cuda:0'),\n",
      " 'train_dataset_recall': tensor(0.9929, device='cuda:0'),\n",
      " 'train_per_image_accuracy': tensor(0.9822, device='cuda:0'),\n",
      " 'train_per_image_f1': tensor(0.9760, device='cuda:0'),\n",
      " 'train_per_image_iou': tensor(0.9574, device='cuda:0'),\n",
      " 'train_per_image_precision': tensor(0.9738, device='cuda:0'),\n",
      " 'train_per_image_recall': tensor(0.9820, device='cuda:0')}\n"
     ]
    },
    {
     "data": {
      "application/vnd.jupyter.widget-view+json": {
       "model_id": "",
       "version_major": 2,
       "version_minor": 0
      },
      "text/plain": [
       "Validation: 0it [00:00, ?it/s]"
      ]
     },
     "metadata": {},
     "output_type": "display_data"
    },
    {
     "name": "stdout",
     "output_type": "stream",
     "text": [
      "{'valid_dataset_accuracy': tensor(0.9515, device='cuda:0'),\n",
      " 'valid_dataset_f1': tensor(0.9644, device='cuda:0'),\n",
      " 'valid_dataset_iou': tensor(0.9312, device='cuda:0'),\n",
      " 'valid_dataset_precision': tensor(0.9532, device='cuda:0'),\n",
      " 'valid_dataset_recall': tensor(0.9758, device='cuda:0'),\n",
      " 'valid_per_image_accuracy': tensor(0.9515, device='cuda:0'),\n",
      " 'valid_per_image_f1': tensor(0.9352, device='cuda:0'),\n",
      " 'valid_per_image_iou': tensor(0.8967, device='cuda:0'),\n",
      " 'valid_per_image_precision': tensor(0.9238, device='cuda:0'),\n",
      " 'valid_per_image_recall': tensor(0.9673, device='cuda:0')}\n",
      "{'train_dataset_accuracy': tensor(0.9826, device='cuda:0'),\n",
      " 'train_dataset_f1': tensor(0.9872, device='cuda:0'),\n",
      " 'train_dataset_iou': tensor(0.9747, device='cuda:0'),\n",
      " 'train_dataset_precision': tensor(0.9812, device='cuda:0'),\n",
      " 'train_dataset_recall': tensor(0.9932, device='cuda:0'),\n",
      " 'train_per_image_accuracy': tensor(0.9826, device='cuda:0'),\n",
      " 'train_per_image_f1': tensor(0.9772, device='cuda:0'),\n",
      " 'train_per_image_iou': tensor(0.9599, device='cuda:0'),\n",
      " 'train_per_image_precision': tensor(0.9752, device='cuda:0'),\n",
      " 'train_per_image_recall': tensor(0.9833, device='cuda:0')}\n"
     ]
    },
    {
     "data": {
      "application/vnd.jupyter.widget-view+json": {
       "model_id": "",
       "version_major": 2,
       "version_minor": 0
      },
      "text/plain": [
       "Validation: 0it [00:00, ?it/s]"
      ]
     },
     "metadata": {},
     "output_type": "display_data"
    },
    {
     "name": "stdout",
     "output_type": "stream",
     "text": [
      "{'valid_dataset_accuracy': tensor(0.9712, device='cuda:0'),\n",
      " 'valid_dataset_f1': tensor(0.9788, device='cuda:0'),\n",
      " 'valid_dataset_iou': tensor(0.9585, device='cuda:0'),\n",
      " 'valid_dataset_precision': tensor(0.9693, device='cuda:0'),\n",
      " 'valid_dataset_recall': tensor(0.9885, device='cuda:0'),\n",
      " 'valid_per_image_accuracy': tensor(0.9712, device='cuda:0'),\n",
      " 'valid_per_image_f1': tensor(0.9600, device='cuda:0'),\n",
      " 'valid_per_image_iou': tensor(0.9326, device='cuda:0'),\n",
      " 'valid_per_image_precision': tensor(0.9497, device='cuda:0'),\n",
      " 'valid_per_image_recall': tensor(0.9799, device='cuda:0')}\n",
      "{'train_dataset_accuracy': tensor(0.9810, device='cuda:0'),\n",
      " 'train_dataset_f1': tensor(0.9859, device='cuda:0'),\n",
      " 'train_dataset_iou': tensor(0.9723, device='cuda:0'),\n",
      " 'train_dataset_precision': tensor(0.9801, device='cuda:0'),\n",
      " 'train_dataset_recall': tensor(0.9919, device='cuda:0'),\n",
      " 'train_per_image_accuracy': tensor(0.9810, device='cuda:0'),\n",
      " 'train_per_image_f1': tensor(0.9738, device='cuda:0'),\n",
      " 'train_per_image_iou': tensor(0.9539, device='cuda:0'),\n",
      " 'train_per_image_precision': tensor(0.9721, device='cuda:0'),\n",
      " 'train_per_image_recall': tensor(0.9798, device='cuda:0')}\n"
     ]
    },
    {
     "data": {
      "application/vnd.jupyter.widget-view+json": {
       "model_id": "",
       "version_major": 2,
       "version_minor": 0
      },
      "text/plain": [
       "Validation: 0it [00:00, ?it/s]"
      ]
     },
     "metadata": {},
     "output_type": "display_data"
    },
    {
     "name": "stdout",
     "output_type": "stream",
     "text": [
      "{'valid_dataset_accuracy': tensor(0.9780, device='cuda:0'),\n",
      " 'valid_dataset_f1': tensor(0.9837, device='cuda:0'),\n",
      " 'valid_dataset_iou': tensor(0.9680, device='cuda:0'),\n",
      " 'valid_dataset_precision': tensor(0.9762, device='cuda:0'),\n",
      " 'valid_dataset_recall': tensor(0.9914, device='cuda:0'),\n",
      " 'valid_per_image_accuracy': tensor(0.9780, device='cuda:0'),\n",
      " 'valid_per_image_f1': tensor(0.9694, device='cuda:0'),\n",
      " 'valid_per_image_iou': tensor(0.9472, device='cuda:0'),\n",
      " 'valid_per_image_precision': tensor(0.9648, device='cuda:0'),\n",
      " 'valid_per_image_recall': tensor(0.9805, device='cuda:0')}\n",
      "{'train_dataset_accuracy': tensor(0.9804, device='cuda:0'),\n",
      " 'train_dataset_f1': tensor(0.9855, device='cuda:0'),\n",
      " 'train_dataset_iou': tensor(0.9715, device='cuda:0'),\n",
      " 'train_dataset_precision': tensor(0.9796, device='cuda:0'),\n",
      " 'train_dataset_recall': tensor(0.9916, device='cuda:0'),\n",
      " 'train_per_image_accuracy': tensor(0.9804, device='cuda:0'),\n",
      " 'train_per_image_f1': tensor(0.9737, device='cuda:0'),\n",
      " 'train_per_image_iou': tensor(0.9538, device='cuda:0'),\n",
      " 'train_per_image_precision': tensor(0.9718, device='cuda:0'),\n",
      " 'train_per_image_recall': tensor(0.9806, device='cuda:0')}\n"
     ]
    },
    {
     "data": {
      "application/vnd.jupyter.widget-view+json": {
       "model_id": "",
       "version_major": 2,
       "version_minor": 0
      },
      "text/plain": [
       "Validation: 0it [00:00, ?it/s]"
      ]
     },
     "metadata": {},
     "output_type": "display_data"
    },
    {
     "name": "stdout",
     "output_type": "stream",
     "text": [
      "{'valid_dataset_accuracy': tensor(0.9777, device='cuda:0'),\n",
      " 'valid_dataset_f1': tensor(0.9835, device='cuda:0'),\n",
      " 'valid_dataset_iou': tensor(0.9676, device='cuda:0'),\n",
      " 'valid_dataset_precision': tensor(0.9780, device='cuda:0'),\n",
      " 'valid_dataset_recall': tensor(0.9892, device='cuda:0'),\n",
      " 'valid_per_image_accuracy': tensor(0.9777, device='cuda:0'),\n",
      " 'valid_per_image_f1': tensor(0.9689, device='cuda:0'),\n",
      " 'valid_per_image_iou': tensor(0.9465, device='cuda:0'),\n",
      " 'valid_per_image_precision': tensor(0.9674, device='cuda:0'),\n",
      " 'valid_per_image_recall': tensor(0.9770, device='cuda:0')}\n",
      "{'train_dataset_accuracy': tensor(0.9797, device='cuda:0'),\n",
      " 'train_dataset_f1': tensor(0.9850, device='cuda:0'),\n",
      " 'train_dataset_iou': tensor(0.9704, device='cuda:0'),\n",
      " 'train_dataset_precision': tensor(0.9792, device='cuda:0'),\n",
      " 'train_dataset_recall': tensor(0.9909, device='cuda:0'),\n",
      " 'train_per_image_accuracy': tensor(0.9797, device='cuda:0'),\n",
      " 'train_per_image_f1': tensor(0.9728, device='cuda:0'),\n",
      " 'train_per_image_iou': tensor(0.9522, device='cuda:0'),\n",
      " 'train_per_image_precision': tensor(0.9712, device='cuda:0'),\n",
      " 'train_per_image_recall': tensor(0.9794, device='cuda:0')}\n"
     ]
    },
    {
     "data": {
      "application/vnd.jupyter.widget-view+json": {
       "model_id": "",
       "version_major": 2,
       "version_minor": 0
      },
      "text/plain": [
       "Validation: 0it [00:00, ?it/s]"
      ]
     },
     "metadata": {},
     "output_type": "display_data"
    },
    {
     "name": "stdout",
     "output_type": "stream",
     "text": [
      "{'valid_dataset_accuracy': tensor(0.9742, device='cuda:0'),\n",
      " 'valid_dataset_f1': tensor(0.9810, device='cuda:0'),\n",
      " 'valid_dataset_iou': tensor(0.9626, device='cuda:0'),\n",
      " 'valid_dataset_precision': tensor(0.9721, device='cuda:0'),\n",
      " 'valid_dataset_recall': tensor(0.9900, device='cuda:0'),\n",
      " 'valid_per_image_accuracy': tensor(0.9742, device='cuda:0'),\n",
      " 'valid_per_image_f1': tensor(0.9641, device='cuda:0'),\n",
      " 'valid_per_image_iou': tensor(0.9393, device='cuda:0'),\n",
      " 'valid_per_image_precision': tensor(0.9594, device='cuda:0'),\n",
      " 'valid_per_image_recall': tensor(0.9773, device='cuda:0')}\n",
      "{'train_dataset_accuracy': tensor(0.9784, device='cuda:0'),\n",
      " 'train_dataset_f1': tensor(0.9840, device='cuda:0'),\n",
      " 'train_dataset_iou': tensor(0.9686, device='cuda:0'),\n",
      " 'train_dataset_precision': tensor(0.9784, device='cuda:0'),\n",
      " 'train_dataset_recall': tensor(0.9897, device='cuda:0'),\n",
      " 'train_per_image_accuracy': tensor(0.9784, device='cuda:0'),\n",
      " 'train_per_image_f1': tensor(0.9704, device='cuda:0'),\n",
      " 'train_per_image_iou': tensor(0.9489, device='cuda:0'),\n",
      " 'train_per_image_precision': tensor(0.9690, device='cuda:0'),\n",
      " 'train_per_image_recall': tensor(0.9780, device='cuda:0')}\n"
     ]
    },
    {
     "data": {
      "application/vnd.jupyter.widget-view+json": {
       "model_id": "",
       "version_major": 2,
       "version_minor": 0
      },
      "text/plain": [
       "Validation: 0it [00:00, ?it/s]"
      ]
     },
     "metadata": {},
     "output_type": "display_data"
    },
    {
     "name": "stdout",
     "output_type": "stream",
     "text": [
      "{'valid_dataset_accuracy': tensor(0.9528, device='cuda:0'),\n",
      " 'valid_dataset_f1': tensor(0.9656, device='cuda:0'),\n",
      " 'valid_dataset_iou': tensor(0.9334, device='cuda:0'),\n",
      " 'valid_dataset_precision': tensor(0.9484, device='cuda:0'),\n",
      " 'valid_dataset_recall': tensor(0.9834, device='cuda:0'),\n",
      " 'valid_per_image_accuracy': tensor(0.9528, device='cuda:0'),\n",
      " 'valid_per_image_f1': tensor(0.9408, device='cuda:0'),\n",
      " 'valid_per_image_iou': tensor(0.9049, device='cuda:0'),\n",
      " 'valid_per_image_precision': tensor(0.9297, device='cuda:0'),\n",
      " 'valid_per_image_recall': tensor(0.9703, device='cuda:0')}\n",
      "{'train_dataset_accuracy': tensor(0.9781, device='cuda:0'),\n",
      " 'train_dataset_f1': tensor(0.9838, device='cuda:0'),\n",
      " 'train_dataset_iou': tensor(0.9681, device='cuda:0'),\n",
      " 'train_dataset_precision': tensor(0.9781, device='cuda:0'),\n",
      " 'train_dataset_recall': tensor(0.9895, device='cuda:0'),\n",
      " 'train_per_image_accuracy': tensor(0.9781, device='cuda:0'),\n",
      " 'train_per_image_f1': tensor(0.9704, device='cuda:0'),\n",
      " 'train_per_image_iou': tensor(0.9489, device='cuda:0'),\n",
      " 'train_per_image_precision': tensor(0.9689, device='cuda:0'),\n",
      " 'train_per_image_recall': tensor(0.9775, device='cuda:0')}\n"
     ]
    },
    {
     "data": {
      "application/vnd.jupyter.widget-view+json": {
       "model_id": "",
       "version_major": 2,
       "version_minor": 0
      },
      "text/plain": [
       "Validation: 0it [00:00, ?it/s]"
      ]
     },
     "metadata": {},
     "output_type": "display_data"
    },
    {
     "name": "stdout",
     "output_type": "stream",
     "text": [
      "{'valid_dataset_accuracy': tensor(0.9776, device='cuda:0'),\n",
      " 'valid_dataset_f1': tensor(0.9835, device='cuda:0'),\n",
      " 'valid_dataset_iou': tensor(0.9675, device='cuda:0'),\n",
      " 'valid_dataset_precision': tensor(0.9780, device='cuda:0'),\n",
      " 'valid_dataset_recall': tensor(0.9890, device='cuda:0'),\n",
      " 'valid_per_image_accuracy': tensor(0.9776, device='cuda:0'),\n",
      " 'valid_per_image_f1': tensor(0.9693, device='cuda:0'),\n",
      " 'valid_per_image_iou': tensor(0.9468, device='cuda:0'),\n",
      " 'valid_per_image_precision': tensor(0.9676, device='cuda:0'),\n",
      " 'valid_per_image_recall': tensor(0.9768, device='cuda:0')}\n",
      "{'train_dataset_accuracy': tensor(0.9786, device='cuda:0'),\n",
      " 'train_dataset_f1': tensor(0.9842, device='cuda:0'),\n",
      " 'train_dataset_iou': tensor(0.9688, device='cuda:0'),\n",
      " 'train_dataset_precision': tensor(0.9781, device='cuda:0'),\n",
      " 'train_dataset_recall': tensor(0.9903, device='cuda:0'),\n",
      " 'train_per_image_accuracy': tensor(0.9786, device='cuda:0'),\n",
      " 'train_per_image_f1': tensor(0.9699, device='cuda:0'),\n",
      " 'train_per_image_iou': tensor(0.9478, device='cuda:0'),\n",
      " 'train_per_image_precision': tensor(0.9684, device='cuda:0'),\n",
      " 'train_per_image_recall': tensor(0.9774, device='cuda:0')}\n"
     ]
    },
    {
     "data": {
      "application/vnd.jupyter.widget-view+json": {
       "model_id": "",
       "version_major": 2,
       "version_minor": 0
      },
      "text/plain": [
       "Validation: 0it [00:00, ?it/s]"
      ]
     },
     "metadata": {},
     "output_type": "display_data"
    },
    {
     "name": "stdout",
     "output_type": "stream",
     "text": [
      "{'valid_dataset_accuracy': tensor(0.9757, device='cuda:0'),\n",
      " 'valid_dataset_f1': tensor(0.9821, device='cuda:0'),\n",
      " 'valid_dataset_iou': tensor(0.9647, device='cuda:0'),\n",
      " 'valid_dataset_precision': tensor(0.9756, device='cuda:0'),\n",
      " 'valid_dataset_recall': tensor(0.9886, device='cuda:0'),\n",
      " 'valid_per_image_accuracy': tensor(0.9757, device='cuda:0'),\n",
      " 'valid_per_image_f1': tensor(0.9661, device='cuda:0'),\n",
      " 'valid_per_image_iou': tensor(0.9423, device='cuda:0'),\n",
      " 'valid_per_image_precision': tensor(0.9656, device='cuda:0'),\n",
      " 'valid_per_image_recall': tensor(0.9743, device='cuda:0')}\n",
      "{'train_dataset_accuracy': tensor(0.9806, device='cuda:0'),\n",
      " 'train_dataset_f1': tensor(0.9856, device='cuda:0'),\n",
      " 'train_dataset_iou': tensor(0.9717, device='cuda:0'),\n",
      " 'train_dataset_precision': tensor(0.9793, device='cuda:0'),\n",
      " 'train_dataset_recall': tensor(0.9921, device='cuda:0'),\n",
      " 'train_per_image_accuracy': tensor(0.9806, device='cuda:0'),\n",
      " 'train_per_image_f1': tensor(0.9738, device='cuda:0'),\n",
      " 'train_per_image_iou': tensor(0.9543, device='cuda:0'),\n",
      " 'train_per_image_precision': tensor(0.9712, device='cuda:0'),\n",
      " 'train_per_image_recall': tensor(0.9812, device='cuda:0')}\n"
     ]
    },
    {
     "data": {
      "application/vnd.jupyter.widget-view+json": {
       "model_id": "",
       "version_major": 2,
       "version_minor": 0
      },
      "text/plain": [
       "Validation: 0it [00:00, ?it/s]"
      ]
     },
     "metadata": {},
     "output_type": "display_data"
    },
    {
     "name": "stdout",
     "output_type": "stream",
     "text": [
      "{'valid_dataset_accuracy': tensor(0.9793, device='cuda:0'),\n",
      " 'valid_dataset_f1': tensor(0.9847, device='cuda:0'),\n",
      " 'valid_dataset_iou': tensor(0.9698, device='cuda:0'),\n",
      " 'valid_dataset_precision': tensor(0.9790, device='cuda:0'),\n",
      " 'valid_dataset_recall': tensor(0.9904, device='cuda:0'),\n",
      " 'valid_per_image_accuracy': tensor(0.9793, device='cuda:0'),\n",
      " 'valid_per_image_f1': tensor(0.9715, device='cuda:0'),\n",
      " 'valid_per_image_iou': tensor(0.9503, device='cuda:0'),\n",
      " 'valid_per_image_precision': tensor(0.9685, device='cuda:0'),\n",
      " 'valid_per_image_recall': tensor(0.9797, device='cuda:0')}\n",
      "{'train_dataset_accuracy': tensor(0.9825, device='cuda:0'),\n",
      " 'train_dataset_f1': tensor(0.9871, device='cuda:0'),\n",
      " 'train_dataset_iou': tensor(0.9745, device='cuda:0'),\n",
      " 'train_dataset_precision': tensor(0.9811, device='cuda:0'),\n",
      " 'train_dataset_recall': tensor(0.9931, device='cuda:0'),\n",
      " 'train_per_image_accuracy': tensor(0.9825, device='cuda:0'),\n",
      " 'train_per_image_f1': tensor(0.9760, device='cuda:0'),\n",
      " 'train_per_image_iou': tensor(0.9575, device='cuda:0'),\n",
      " 'train_per_image_precision': tensor(0.9742, device='cuda:0'),\n",
      " 'train_per_image_recall': tensor(0.9820, device='cuda:0')}\n"
     ]
    },
    {
     "data": {
      "application/vnd.jupyter.widget-view+json": {
       "model_id": "",
       "version_major": 2,
       "version_minor": 0
      },
      "text/plain": [
       "Validation: 0it [00:00, ?it/s]"
      ]
     },
     "metadata": {},
     "output_type": "display_data"
    },
    {
     "name": "stdout",
     "output_type": "stream",
     "text": [
      "{'valid_dataset_accuracy': tensor(0.9800, device='cuda:0'),\n",
      " 'valid_dataset_f1': tensor(0.9852, device='cuda:0'),\n",
      " 'valid_dataset_iou': tensor(0.9709, device='cuda:0'),\n",
      " 'valid_dataset_precision': tensor(0.9784, device='cuda:0'),\n",
      " 'valid_dataset_recall': tensor(0.9922, device='cuda:0'),\n",
      " 'valid_per_image_accuracy': tensor(0.9800, device='cuda:0'),\n",
      " 'valid_per_image_f1': tensor(0.9725, device='cuda:0'),\n",
      " 'valid_per_image_iou': tensor(0.9524, device='cuda:0'),\n",
      " 'valid_per_image_precision': tensor(0.9680, device='cuda:0'),\n",
      " 'valid_per_image_recall': tensor(0.9829, device='cuda:0')}\n",
      "{'train_dataset_accuracy': tensor(0.9837, device='cuda:0'),\n",
      " 'train_dataset_f1': tensor(0.9880, device='cuda:0'),\n",
      " 'train_dataset_iou': tensor(0.9763, device='cuda:0'),\n",
      " 'train_dataset_precision': tensor(0.9822, device='cuda:0'),\n",
      " 'train_dataset_recall': tensor(0.9938, device='cuda:0'),\n",
      " 'train_per_image_accuracy': tensor(0.9837, device='cuda:0'),\n",
      " 'train_per_image_f1': tensor(0.9780, device='cuda:0'),\n",
      " 'train_per_image_iou': tensor(0.9610, device='cuda:0'),\n",
      " 'train_per_image_precision': tensor(0.9762, device='cuda:0'),\n",
      " 'train_per_image_recall': tensor(0.9835, device='cuda:0')}\n"
     ]
    },
    {
     "data": {
      "application/vnd.jupyter.widget-view+json": {
       "model_id": "",
       "version_major": 2,
       "version_minor": 0
      },
      "text/plain": [
       "Validation: 0it [00:00, ?it/s]"
      ]
     },
     "metadata": {},
     "output_type": "display_data"
    },
    {
     "name": "stdout",
     "output_type": "stream",
     "text": [
      "{'valid_dataset_accuracy': tensor(0.9811, device='cuda:0'),\n",
      " 'valid_dataset_f1': tensor(0.9861, device='cuda:0'),\n",
      " 'valid_dataset_iou': tensor(0.9725, device='cuda:0'),\n",
      " 'valid_dataset_precision': tensor(0.9807, device='cuda:0'),\n",
      " 'valid_dataset_recall': tensor(0.9915, device='cuda:0'),\n",
      " 'valid_per_image_accuracy': tensor(0.9811, device='cuda:0'),\n",
      " 'valid_per_image_f1': tensor(0.9736, device='cuda:0'),\n",
      " 'valid_per_image_iou': tensor(0.9540, device='cuda:0'),\n",
      " 'valid_per_image_precision': tensor(0.9702, device='cuda:0'),\n",
      " 'valid_per_image_recall': tensor(0.9822, device='cuda:0')}\n",
      "{'train_dataset_accuracy': tensor(0.9845, device='cuda:0'),\n",
      " 'train_dataset_f1': tensor(0.9885, device='cuda:0'),\n",
      " 'train_dataset_iou': tensor(0.9773, device='cuda:0'),\n",
      " 'train_dataset_precision': tensor(0.9828, device='cuda:0'),\n",
      " 'train_dataset_recall': tensor(0.9943, device='cuda:0'),\n",
      " 'train_per_image_accuracy': tensor(0.9845, device='cuda:0'),\n",
      " 'train_per_image_f1': tensor(0.9796, device='cuda:0'),\n",
      " 'train_per_image_iou': tensor(0.9637, device='cuda:0'),\n",
      " 'train_per_image_precision': tensor(0.9777, device='cuda:0'),\n",
      " 'train_per_image_recall': tensor(0.9853, device='cuda:0')}\n"
     ]
    },
    {
     "data": {
      "application/vnd.jupyter.widget-view+json": {
       "model_id": "",
       "version_major": 2,
       "version_minor": 0
      },
      "text/plain": [
       "Validation: 0it [00:00, ?it/s]"
      ]
     },
     "metadata": {},
     "output_type": "display_data"
    },
    {
     "name": "stdout",
     "output_type": "stream",
     "text": [
      "{'valid_dataset_accuracy': tensor(0.9809, device='cuda:0'),\n",
      " 'valid_dataset_f1': tensor(0.9859, device='cuda:0'),\n",
      " 'valid_dataset_iou': tensor(0.9721, device='cuda:0'),\n",
      " 'valid_dataset_precision': tensor(0.9795, device='cuda:0'),\n",
      " 'valid_dataset_recall': tensor(0.9923, device='cuda:0'),\n",
      " 'valid_per_image_accuracy': tensor(0.9809, device='cuda:0'),\n",
      " 'valid_per_image_f1': tensor(0.9735, device='cuda:0'),\n",
      " 'valid_per_image_iou': tensor(0.9537, device='cuda:0'),\n",
      " 'valid_per_image_precision': tensor(0.9689, device='cuda:0'),\n",
      " 'valid_per_image_recall': tensor(0.9833, device='cuda:0')}\n",
      "{'train_dataset_accuracy': tensor(0.9847, device='cuda:0'),\n",
      " 'train_dataset_f1': tensor(0.9887, device='cuda:0'),\n",
      " 'train_dataset_iou': tensor(0.9776, device='cuda:0'),\n",
      " 'train_dataset_precision': tensor(0.9831, device='cuda:0'),\n",
      " 'train_dataset_recall': tensor(0.9944, device='cuda:0'),\n",
      " 'train_per_image_accuracy': tensor(0.9847, device='cuda:0'),\n",
      " 'train_per_image_f1': tensor(0.9798, device='cuda:0'),\n",
      " 'train_per_image_iou': tensor(0.9642, device='cuda:0'),\n",
      " 'train_per_image_precision': tensor(0.9781, device='cuda:0'),\n",
      " 'train_per_image_recall': tensor(0.9853, device='cuda:0')}\n"
     ]
    },
    {
     "data": {
      "application/vnd.jupyter.widget-view+json": {
       "model_id": "",
       "version_major": 2,
       "version_minor": 0
      },
      "text/plain": [
       "Validation: 0it [00:00, ?it/s]"
      ]
     },
     "metadata": {},
     "output_type": "display_data"
    },
    {
     "name": "stdout",
     "output_type": "stream",
     "text": [
      "{'valid_dataset_accuracy': tensor(0.9809, device='cuda:0'),\n",
      " 'valid_dataset_f1': tensor(0.9859, device='cuda:0'),\n",
      " 'valid_dataset_iou': tensor(0.9722, device='cuda:0'),\n",
      " 'valid_dataset_precision': tensor(0.9799, device='cuda:0'),\n",
      " 'valid_dataset_recall': tensor(0.9919, device='cuda:0'),\n",
      " 'valid_per_image_accuracy': tensor(0.9809, device='cuda:0'),\n",
      " 'valid_per_image_f1': tensor(0.9737, device='cuda:0'),\n",
      " 'valid_per_image_iou': tensor(0.9541, device='cuda:0'),\n",
      " 'valid_per_image_precision': tensor(0.9719, device='cuda:0'),\n",
      " 'valid_per_image_recall': tensor(0.9808, device='cuda:0')}\n",
      "{'train_dataset_accuracy': tensor(0.9849, device='cuda:0'),\n",
      " 'train_dataset_f1': tensor(0.9889, device='cuda:0'),\n",
      " 'train_dataset_iou': tensor(0.9780, device='cuda:0'),\n",
      " 'train_dataset_precision': tensor(0.9833, device='cuda:0'),\n",
      " 'train_dataset_recall': tensor(0.9945, device='cuda:0'),\n",
      " 'train_per_image_accuracy': tensor(0.9849, device='cuda:0'),\n",
      " 'train_per_image_f1': tensor(0.9803, device='cuda:0'),\n",
      " 'train_per_image_iou': tensor(0.9648, device='cuda:0'),\n",
      " 'train_per_image_precision': tensor(0.9783, device='cuda:0'),\n",
      " 'train_per_image_recall': tensor(0.9857, device='cuda:0')}\n"
     ]
    },
    {
     "data": {
      "application/vnd.jupyter.widget-view+json": {
       "model_id": "",
       "version_major": 2,
       "version_minor": 0
      },
      "text/plain": [
       "Validation: 0it [00:00, ?it/s]"
      ]
     },
     "metadata": {},
     "output_type": "display_data"
    },
    {
     "name": "stdout",
     "output_type": "stream",
     "text": [
      "{'valid_dataset_accuracy': tensor(0.9809, device='cuda:0'),\n",
      " 'valid_dataset_f1': tensor(0.9859, device='cuda:0'),\n",
      " 'valid_dataset_iou': tensor(0.9722, device='cuda:0'),\n",
      " 'valid_dataset_precision': tensor(0.9803, device='cuda:0'),\n",
      " 'valid_dataset_recall': tensor(0.9916, device='cuda:0'),\n",
      " 'valid_per_image_accuracy': tensor(0.9809, device='cuda:0'),\n",
      " 'valid_per_image_f1': tensor(0.9741, device='cuda:0'),\n",
      " 'valid_per_image_iou': tensor(0.9546, device='cuda:0'),\n",
      " 'valid_per_image_precision': tensor(0.9721, device='cuda:0'),\n",
      " 'valid_per_image_recall': tensor(0.9809, device='cuda:0')}\n",
      "{'train_dataset_accuracy': tensor(0.9849, device='cuda:0'),\n",
      " 'train_dataset_f1': tensor(0.9889, device='cuda:0'),\n",
      " 'train_dataset_iou': tensor(0.9780, device='cuda:0'),\n",
      " 'train_dataset_precision': tensor(0.9833, device='cuda:0'),\n",
      " 'train_dataset_recall': tensor(0.9944, device='cuda:0'),\n",
      " 'train_per_image_accuracy': tensor(0.9849, device='cuda:0'),\n",
      " 'train_per_image_f1': tensor(0.9803, device='cuda:0'),\n",
      " 'train_per_image_iou': tensor(0.9647, device='cuda:0'),\n",
      " 'train_per_image_precision': tensor(0.9784, device='cuda:0'),\n",
      " 'train_per_image_recall': tensor(0.9855, device='cuda:0')}\n"
     ]
    },
    {
     "data": {
      "application/vnd.jupyter.widget-view+json": {
       "model_id": "",
       "version_major": 2,
       "version_minor": 0
      },
      "text/plain": [
       "Validation: 0it [00:00, ?it/s]"
      ]
     },
     "metadata": {},
     "output_type": "display_data"
    },
    {
     "name": "stdout",
     "output_type": "stream",
     "text": [
      "{'valid_dataset_accuracy': tensor(0.9800, device='cuda:0'),\n",
      " 'valid_dataset_f1': tensor(0.9852, device='cuda:0'),\n",
      " 'valid_dataset_iou': tensor(0.9709, device='cuda:0'),\n",
      " 'valid_dataset_precision': tensor(0.9793, device='cuda:0'),\n",
      " 'valid_dataset_recall': tensor(0.9912, device='cuda:0'),\n",
      " 'valid_per_image_accuracy': tensor(0.9800, device='cuda:0'),\n",
      " 'valid_per_image_f1': tensor(0.9725, device='cuda:0'),\n",
      " 'valid_per_image_iou': tensor(0.9519, device='cuda:0'),\n",
      " 'valid_per_image_precision': tensor(0.9689, device='cuda:0'),\n",
      " 'valid_per_image_recall': tensor(0.9813, device='cuda:0')}\n",
      "{'train_dataset_accuracy': tensor(0.9827, device='cuda:0'),\n",
      " 'train_dataset_f1': tensor(0.9872, device='cuda:0'),\n",
      " 'train_dataset_iou': tensor(0.9748, device='cuda:0'),\n",
      " 'train_dataset_precision': tensor(0.9816, device='cuda:0'),\n",
      " 'train_dataset_recall': tensor(0.9929, device='cuda:0'),\n",
      " 'train_per_image_accuracy': tensor(0.9827, device='cuda:0'),\n",
      " 'train_per_image_f1': tensor(0.9770, device='cuda:0'),\n",
      " 'train_per_image_iou': tensor(0.9590, device='cuda:0'),\n",
      " 'train_per_image_precision': tensor(0.9750, device='cuda:0'),\n",
      " 'train_per_image_recall': tensor(0.9829, device='cuda:0')}\n"
     ]
    },
    {
     "name": "stderr",
     "output_type": "stream",
     "text": [
      "/data2/jupyter_storage/jonibek95/.conda/envs/joni2/lib/python3.10/site-packages/pytorch_lightning/trainer/call.py:48: UserWarning: Detected KeyboardInterrupt, attempting graceful shutdown...\n",
      "  rank_zero_warn(\"Detected KeyboardInterrupt, attempting graceful shutdown...\")\n"
     ]
    }
   ],
   "source": [
    "import os\n",
    "from typing import Dict, List\n",
    "import numpy as np\n",
    "import cv2\n",
    "import torch\n",
    "import segmentation_models_pytorch as smp\n",
    "import pytorch_lightning as pl\n",
    "import torch.nn as nn\n",
    "from pprint import pprint\n",
    "from torch.utils.data import DataLoader\n",
    "from glob import glob\n",
    "from torch.utils.data import Dataset, DataLoader\n",
    "from PIL import Image\n",
    "\n",
    "torch.multiprocessing.set_sharing_strategy('file_system')\n",
    "device = torch.device(\"cuda\" if torch.cuda.is_available() else \"cpu\")\n",
    "os.environ[\"CUDA_VISIBLE_DEVICES\"] = '0, 1, 2, 3'\n",
    "\n",
    "\n",
    "class CODIPAIDataSet(Dataset):\n",
    "    def __init__(self, imgs_dir: str, masks_dir: str):\n",
    "        self.imgs_dir = imgs_dir\n",
    "        self.masks_dir = masks_dir\n",
    "\n",
    "        self.ids = [\n",
    "            os.path.splitext(fi)[0]\n",
    "            for fi in os.listdir(self.masks_dir)\n",
    "            if not fi.startswith(\".\")\n",
    "        ]\n",
    "\n",
    "    def __len__(self) -> int:\n",
    "        return len(self.ids)\n",
    "\n",
    "    def __getitem__(self, i) -> Dict[str, torch.tensor]:\n",
    "        idx = self.ids[i]\n",
    "\n",
    "        img_path = os.path.join(self.imgs_dir, f\"{idx}.png\")\n",
    "        mask_path = os.path.join(self.masks_dir, f\"{idx}.png\")\n",
    "\n",
    "        img_file = glob(img_path)\n",
    "        mask_file = glob(mask_path)\n",
    "\n",
    "        assert (\n",
    "                len(mask_file) == 1\n",
    "        ), f\"Either no mask or multiple masks found for the ID {idx}: {mask_file}\"\n",
    "        assert (\n",
    "                len(img_file) == 1\n",
    "        ), f\"Either no image or multiple images found for the ID {idx}: {img_file}\"\n",
    "        \n",
    "        image = Image.open(img_file[0]).convert('RGB')\n",
    "        mask = Image.open(mask_file[0])\n",
    "        \n",
    "        image = np.array(image)\n",
    "        mask = np.array(mask)\n",
    "\n",
    "#         image = np.load(img_file[0], allow_pickle=True)\n",
    "# #         print('1: ', image.shape)\n",
    "#         mask = np.load(mask_file[0], allow_pickle=True)\n",
    "#         mask = mask.squeeze()\n",
    "\n",
    "        image = np.transpose(image, (2, 0, 1))\n",
    "        mask = mask / 255.\n",
    "#         mask = np.transpose(mask, (2, 0, 1))\n",
    "\n",
    "        return {\n",
    "            \"image\": torch.tensor(image, dtype=torch.float32),\n",
    "            \"mask\": torch.tensor(mask, dtype=torch.float32),\n",
    "        }\n",
    "\n",
    "class CODIPAIModel(pl.LightningModule):\n",
    "    def __init__(\n",
    "        self,\n",
    "        arch=\"pan\",\n",
    "        encoder_name=\"efficientnet-b5\",\n",
    "        in_channels=3,\n",
    "        out_classes=1,\n",
    "        **kwargs,\n",
    "    ):\n",
    "        super().__init__()\n",
    "        self.model = smp.create_model(\n",
    "            arch,\n",
    "            encoder_name=encoder_name,\n",
    "            in_channels=in_channels,\n",
    "            classes=out_classes,\n",
    "            **kwargs,\n",
    "        )\n",
    "        \n",
    "        # Add attention layers\n",
    "#         self.self_attention = nn.MultiheadAttention(embed_dim=256, num_heads=8)\n",
    "#         self.encoder_attention = nn.MultiheadAttention(embed_dim=256, num_heads=8)\n",
    "\n",
    "        \n",
    "\n",
    "        params = smp.encoders.get_preprocessing_params(encoder_name)\n",
    "        self.register_buffer(\"std\", torch.tensor(params[\"std\"]).view(1, 3, 1, 1))\n",
    "        self.register_buffer(\"mean\", torch.tensor(params[\"mean\"]).view(1, 3, 1, 1))\n",
    "\n",
    "        self.loss_fn = smp.losses.DiceLoss(smp.losses.BINARY_MODE, from_logits=True)\n",
    "\n",
    "    def forward(self, image):\n",
    "        image = (image - self.mean) / self.std\n",
    "        mask = self.model(image)\n",
    "        return mask\n",
    "\n",
    "    def shared_step(self, batch, stage):\n",
    "        image = batch[\"image\"]\n",
    "\n",
    "        # Shape of the image should be (batch_size, num_channels, height, width)\n",
    "        # if you work with grayscale images, expand channels dim to have [batch_size, 1, height, width]\n",
    "        assert image.ndim == 4\n",
    "\n",
    "        # Check that image dimensions are divisible by 32,\n",
    "        # encoder and decoder connected by `skip connections` and usually encoder have 5 stages of\n",
    "        # downsampling by factor 2 (2 ^ 5 = 32); e.g. if we have image with shape 65x65 we will have\n",
    "        # following shapes of features in encoder and decoder: 84, 42, 21, 10, 5 -> 5, 10, 20, 40, 80\n",
    "        # and we will get an error trying to concat these features\n",
    "        h, w = image.shape[2:]\n",
    "        assert h % 32 == 0 and w % 32 == 0\n",
    "\n",
    "        mask = batch[\"mask\"]        \n",
    "        mask = mask.unsqueeze(1)\n",
    "#         print(mask.shape)\n",
    "\n",
    "        # Shape of the mask should be [batch_size, num_classes, height, width]\n",
    "        # for binary segmentation num_classes = 1\n",
    "        assert mask.ndim == 4\n",
    "\n",
    "        # Check that mask values in between 0 and 1, NOT 0 and 255 for binary segmentation\n",
    "        assert mask.max() <= 1.0 and mask.min() >= 0\n",
    "\n",
    "        logits_mask = self.forward(image)\n",
    "\n",
    "        # Predicted mask contains logits, and loss_fn param `from_logits` is set to True\n",
    "        loss = self.loss_fn(logits_mask, mask)\n",
    "\n",
    "        # Lets compute metrics for some threshold\n",
    "        # first convert mask values to probabilities, then\n",
    "        # apply thresholding\n",
    "        prob_mask = logits_mask.sigmoid()\n",
    "        pred_mask = (prob_mask > 0.5).float()\n",
    "\n",
    "        # We will compute IoU metric by two ways\n",
    "        #   1. dataset-wise\n",
    "        #   2. image-wise\n",
    "        # but for now we just compute true positive, false positive, false negative and\n",
    "        # true negative 'pixels' for each image and class\n",
    "        # these values will be aggregated in the end of an epoch\n",
    "        tp, fp, fn, tn = smp.metrics.get_stats(\n",
    "            pred_mask.long(), mask.long(), mode=\"binary\"\n",
    "        )\n",
    "\n",
    "        return {\n",
    "            \"loss\": loss,\n",
    "            \"tp\": tp,\n",
    "            \"fp\": fp,\n",
    "            \"fn\": fn,\n",
    "            \"tn\": tn,\n",
    "        }\n",
    "\n",
    "    def shared_epoch_end(self, outputs, stage):\n",
    "        # aggregate step metics\n",
    "        tp = torch.cat([x[\"tp\"] for x in outputs])\n",
    "        fp = torch.cat([x[\"fp\"] for x in outputs])\n",
    "        fn = torch.cat([x[\"fn\"] for x in outputs])\n",
    "        tn = torch.cat([x[\"tn\"] for x in outputs])\n",
    "\n",
    "        # per image IoU means that we first calculate IoU score for each image\n",
    "        # and then compute mean over these scores\n",
    "        per_image_iou = smp.metrics.iou_score(\n",
    "            tp, fp, fn, tn, reduction=\"micro-imagewise\"\n",
    "        )\n",
    "        per_image_accuracy = smp.metrics.accuracy(\n",
    "            tp, fp, fn, tn, reduction=\"micro-imagewise\"\n",
    "        )\n",
    "        per_image_precision = smp.metrics.precision(\n",
    "            tp, fp, fn, tn, reduction=\"micro-imagewise\"\n",
    "        )\n",
    "        per_image_recall = smp.metrics.recall(\n",
    "            tp, fp, fn, tn, reduction=\"micro-imagewise\"\n",
    "        )\n",
    "        per_image_f1 = smp.metrics.f1_score(tp, fp, fn, tn, reduction=\"micro-imagewise\")\n",
    "\n",
    "        # dataset IoU means that we aggregate intersection and union over whole dataset\n",
    "        # and then compute IoU score. The difference between dataset_iou and per_image_iou scores\n",
    "        # in this particular case will not be much, however for dataset\n",
    "        # with \"empty\" images (images without target class) a large gap could be observed.\n",
    "        # Empty images influence a lot on per_image_iou and much less on dataset_iou.\n",
    "        dataset_iou = smp.metrics.iou_score(tp, fp, fn, tn, reduction=\"micro\")\n",
    "        dataset_accuracy = smp.metrics.accuracy(tp, fp, fn, tn, reduction=\"micro\")\n",
    "        dataset_precision = smp.metrics.precision(tp, fp, fn, tn, reduction=\"micro\")\n",
    "        dataset_recall = smp.metrics.recall(tp, fp, fn, tn, reduction=\"micro\")\n",
    "        dataset_f1 = smp.metrics.f1_score(tp, fp, fn, tn, reduction=\"micro\")\n",
    "\n",
    "        metrics = {\n",
    "            f\"{stage}_per_image_iou\": per_image_iou,\n",
    "            f\"{stage}_per_image_accuracy\": per_image_accuracy,\n",
    "            f\"{stage}_per_image_precision\": per_image_precision,\n",
    "            f\"{stage}_per_image_recall\": per_image_recall,\n",
    "            f\"{stage}_per_image_f1\": per_image_f1,\n",
    "            f\"{stage}_dataset_iou\": dataset_iou,\n",
    "            f\"{stage}_dataset_accuracy\": dataset_accuracy,\n",
    "            f\"{stage}_dataset_precision\": dataset_precision,\n",
    "            f\"{stage}_dataset_recall\": dataset_recall,\n",
    "            f\"{stage}_dataset_f1\": dataset_f1,\n",
    "        }\n",
    "\n",
    "        self.log_dict(metrics, prog_bar=True)\n",
    "        pprint(metrics)\n",
    "\n",
    "    def training_step(self, batch, batch_idx):\n",
    "        return self.shared_step(batch, \"train\")\n",
    "\n",
    "    def training_epoch_end(self, outputs):\n",
    "        return self.shared_epoch_end(outputs, \"train\")\n",
    "\n",
    "    def validation_step(self, batch, batch_idx):\n",
    "        return self.shared_step(batch, \"valid\")\n",
    "\n",
    "    def validation_epoch_end(self, outputs):\n",
    "        return self.shared_epoch_end(outputs, \"valid\")\n",
    "\n",
    "    def test_step(self, batch, batch_idx):\n",
    "        return self.shared_step(batch, \"test\")\n",
    "\n",
    "    def test_epoch_end(self, outputs):\n",
    "        return self.shared_epoch_end(outputs, \"test\")\n",
    "\n",
    "    def configure_optimizers(self):\n",
    "        return torch.optim.Adam(self.parameters(), lr=0.0001)\n",
    "\n",
    "\n",
    "if __name__ == \"__main__\":\n",
    "    train_dataloaders = DataLoader(\n",
    "        CODIPAIDataSet(\n",
    "            imgs_dir='./data/patches/01-original/',\n",
    "            masks_dir='./data/patches/02-mask'),\n",
    "        batch_size=16,\n",
    "        num_workers=4,\n",
    "    )\n",
    "\n",
    "#     val_dataloaders = DataLoader(\n",
    "#         CODIPAIDataSet(\n",
    "#             imgs_dir='../Image_Segmentation_2/dataset_1/valid/',\n",
    "#             masks_dir='../Image_Segmentation_2/dataset_1/valid_GT'),\n",
    "#         batch_size=10,\n",
    "#         num_workers=8,    \n",
    "#     )\n",
    "\n",
    "    trainer = pl.Trainer(\n",
    "        accelerator=\"gpu\",\n",
    "        devices=1,\n",
    "        max_epochs=100,\n",
    "        log_every_n_steps=1,\n",
    "        default_root_dir=\"./new_codipai/pan\",\n",
    "    )\n",
    "\n",
    "model = CODIPAIModel(\"pan\", \"efficientnet-b5\", in_channels=3, out_classes=1)\n",
    "trainer.fit(model, train_dataloaders, train_dataloaders)"
   ]
  },
  {
   "cell_type": "code",
   "execution_count": null,
   "id": "e0d93e52",
   "metadata": {},
   "outputs": [],
   "source": []
  },
  {
   "cell_type": "code",
   "execution_count": null,
   "id": "4a6642f7",
   "metadata": {},
   "outputs": [],
   "source": []
  },
  {
   "cell_type": "code",
   "execution_count": null,
   "id": "082c4d6c",
   "metadata": {},
   "outputs": [],
   "source": []
  },
  {
   "cell_type": "code",
   "execution_count": null,
   "id": "da51110d",
   "metadata": {},
   "outputs": [],
   "source": []
  },
  {
   "cell_type": "code",
   "execution_count": null,
   "id": "a52f8dd5",
   "metadata": {},
   "outputs": [],
   "source": []
  },
  {
   "cell_type": "code",
   "execution_count": null,
   "id": "1b546407",
   "metadata": {},
   "outputs": [],
   "source": []
  },
  {
   "cell_type": "code",
   "execution_count": null,
   "id": "f615a4c0",
   "metadata": {},
   "outputs": [],
   "source": []
  },
  {
   "cell_type": "code",
   "execution_count": null,
   "id": "d79d6f5d",
   "metadata": {},
   "outputs": [],
   "source": []
  },
  {
   "cell_type": "code",
   "execution_count": null,
   "id": "c15ee82b",
   "metadata": {},
   "outputs": [],
   "source": []
  },
  {
   "cell_type": "code",
   "execution_count": null,
   "id": "829c29c5",
   "metadata": {},
   "outputs": [],
   "source": []
  },
  {
   "cell_type": "code",
   "execution_count": null,
   "id": "acf55f60",
   "metadata": {},
   "outputs": [],
   "source": []
  }
 ],
 "metadata": {
  "kernelspec": {
   "display_name": "joni2",
   "language": "python",
   "name": "joni2"
  },
  "language_info": {
   "codemirror_mode": {
    "name": "ipython",
    "version": 3
   },
   "file_extension": ".py",
   "mimetype": "text/x-python",
   "name": "python",
   "nbconvert_exporter": "python",
   "pygments_lexer": "ipython3",
   "version": "3.10.6"
  }
 },
 "nbformat": 4,
 "nbformat_minor": 5
}
